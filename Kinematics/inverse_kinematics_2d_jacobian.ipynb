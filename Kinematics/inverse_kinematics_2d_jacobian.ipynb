{
 "cells": [
  {
   "cell_type": "markdown",
   "metadata": {},
   "source": [
    "# Inverse Kinematics (2D)"
   ]
  },
  {
   "cell_type": "code",
   "execution_count": 2,
   "metadata": {},
   "outputs": [],
   "source": [
    "%matplotlib notebook\n",
    "from matplotlib import pylab as plt\n",
    "from numpy import sin, cos, pi, matrix, random, linalg, asarray\n",
    "from scipy.linalg import pinv\n",
    "from __future__ import division\n",
    "from math import atan2\n",
    "from IPython import display\n",
    "from ipywidgets import interact, fixed"
   ]
  },
  {
   "cell_type": "markdown",
   "metadata": {},
   "source": [
    "## Coordinate Transformation"
   ]
  },
  {
   "cell_type": "code",
   "execution_count": 3,
   "metadata": {},
   "outputs": [],
   "source": [
    "def trans(x, y, a):\n",
    "    '''create a 2D transformation'''\n",
    "    s = sin(a)\n",
    "    c = cos(a)\n",
    "    return matrix([[c, -s, x],\n",
    "                   [s,  c, y],\n",
    "                   [0,  0, 1]])\n",
    "\n",
    "def from_trans(m):\n",
    "    '''get x, y, theta from transform matrix'''\n",
    "    return [m[0, -1], m[1, -1], atan2(m[1, 0], m[0, 0])]"
   ]
  },
  {
   "cell_type": "code",
   "execution_count": 4,
   "metadata": {},
   "outputs": [
    {
     "data": {
      "text/plain": [
       "matrix([[ 1., -0.,  0.],\n",
       "        [ 0.,  1.,  0.],\n",
       "        [ 0.,  0.,  1.]])"
      ]
     },
     "execution_count": 4,
     "metadata": {},
     "output_type": "execute_result"
    }
   ],
   "source": [
    "trans(0, 0, 0)"
   ]
  },
  {
   "cell_type": "markdown",
   "metadata": {},
   "source": [
    "## Parameters of robot arm"
   ]
  },
  {
   "cell_type": "code",
   "execution_count": 15,
   "metadata": {},
   "outputs": [],
   "source": [
    "l = [0, 3, 2, 1]\n",
    "#l = [0, 3, 2, 1, 1]\n",
    "#l = [0, 3, 2, 1, 1, 1]\n",
    "#l = [1] * 30\n",
    "N = len(l) - 1  # number of links\n",
    "max_len = sum(l)\n",
    "a = random.random_sample(N)  # angles of joints\n",
    "T0 = trans(0, 0, 0)  # base"
   ]
  },
  {
   "cell_type": "markdown",
   "metadata": {},
   "source": [
    "## Forward Kinematics"
   ]
  },
  {
   "cell_type": "code",
   "execution_count": 6,
   "metadata": {},
   "outputs": [],
   "source": [
    "def forward_kinematics(T0, l, a):\n",
    "    T = [T0]\n",
    "    for i in range(len(a)):\n",
    "        Ti = T[-1] * trans(l[i], 0, a[i])\n",
    "        T.append(Ti)\n",
    "    Te = T[-1] * trans(l[-1], 0, 0)  # end effector\n",
    "    T.append(Te)\n",
    "    return T"
   ]
  },
  {
   "cell_type": "code",
   "execution_count": 7,
   "metadata": {},
   "outputs": [],
   "source": [
    "def show_robot_arm(T):\n",
    "    plt.cla()\n",
    "    x = [Ti[0,-1] for Ti in T]\n",
    "    y = [Ti[1,-1] for Ti in T]\n",
    "    plt.plot(x, y, '-or', linewidth=5, markersize=10)\n",
    "    plt.plot(x[-1], y[-1], 'og', linewidth=5, markersize=10)\n",
    "    plt.xlim([-max_len, max_len])\n",
    "    plt.ylim([-max_len, max_len]) \n",
    "    ax = plt.axes()\n",
    "    ax.set_aspect('equal')\n",
    "    t = atan2(T[-1][1, 0], T[-1][0,0])\n",
    "    ax.annotate('[%.2f,%.2f,%.2f]' % (x[-1], y[-1], t), xy=(x[-1], y[-1]), xytext=(x[-1], y[-1] + 0.5))\n",
    "    plt.show()\n",
    "    return ax"
   ]
  },
  {
   "cell_type": "markdown",
   "metadata": {},
   "source": [
    "## Inverse Kinematics"
   ]
  },
  {
   "cell_type": "markdown",
   "metadata": {},
   "source": [
    "### Numerical Solution with Jacobian\n",
    "\n",
    "NOTE: while numerical inverse kinematics is easy to implemente, two issues have to be keep in mind:\n",
    "* stablility: the correction step (lambda_) has to be small, but it will take longer time to converage\n",
    "* singularity: there are singularity poses (all 0, for example), the correction will be 0, so the algorithm won't work. That's why many robots bends its leg when walking"
   ]
  },
  {
   "cell_type": "code",
   "execution_count": 18,
   "metadata": {},
   "outputs": [
    {
     "data": {
      "application/javascript": [
       "/* Put everything inside the global mpl namespace */\n",
       "window.mpl = {};\n",
       "\n",
       "\n",
       "mpl.get_websocket_type = function() {\n",
       "    if (typeof(WebSocket) !== 'undefined') {\n",
       "        return WebSocket;\n",
       "    } else if (typeof(MozWebSocket) !== 'undefined') {\n",
       "        return MozWebSocket;\n",
       "    } else {\n",
       "        alert('Your browser does not have WebSocket support. ' +\n",
       "              'Please try Chrome, Safari or Firefox ≥ 6. ' +\n",
       "              'Firefox 4 and 5 are also supported but you ' +\n",
       "              'have to enable WebSockets in about:config.');\n",
       "    };\n",
       "}\n",
       "\n",
       "mpl.figure = function(figure_id, websocket, ondownload, parent_element) {\n",
       "    this.id = figure_id;\n",
       "\n",
       "    this.ws = websocket;\n",
       "\n",
       "    this.supports_binary = (this.ws.binaryType != undefined);\n",
       "\n",
       "    if (!this.supports_binary) {\n",
       "        var warnings = document.getElementById(\"mpl-warnings\");\n",
       "        if (warnings) {\n",
       "            warnings.style.display = 'block';\n",
       "            warnings.textContent = (\n",
       "                \"This browser does not support binary websocket messages. \" +\n",
       "                    \"Performance may be slow.\");\n",
       "        }\n",
       "    }\n",
       "\n",
       "    this.imageObj = new Image();\n",
       "\n",
       "    this.context = undefined;\n",
       "    this.message = undefined;\n",
       "    this.canvas = undefined;\n",
       "    this.rubberband_canvas = undefined;\n",
       "    this.rubberband_context = undefined;\n",
       "    this.format_dropdown = undefined;\n",
       "\n",
       "    this.image_mode = 'full';\n",
       "\n",
       "    this.root = $('<div/>');\n",
       "    this._root_extra_style(this.root)\n",
       "    this.root.attr('style', 'display: inline-block');\n",
       "\n",
       "    $(parent_element).append(this.root);\n",
       "\n",
       "    this._init_header(this);\n",
       "    this._init_canvas(this);\n",
       "    this._init_toolbar(this);\n",
       "\n",
       "    var fig = this;\n",
       "\n",
       "    this.waiting = false;\n",
       "\n",
       "    this.ws.onopen =  function () {\n",
       "            fig.send_message(\"supports_binary\", {value: fig.supports_binary});\n",
       "            fig.send_message(\"send_image_mode\", {});\n",
       "            if (mpl.ratio != 1) {\n",
       "                fig.send_message(\"set_dpi_ratio\", {'dpi_ratio': mpl.ratio});\n",
       "            }\n",
       "            fig.send_message(\"refresh\", {});\n",
       "        }\n",
       "\n",
       "    this.imageObj.onload = function() {\n",
       "            if (fig.image_mode == 'full') {\n",
       "                // Full images could contain transparency (where diff images\n",
       "                // almost always do), so we need to clear the canvas so that\n",
       "                // there is no ghosting.\n",
       "                fig.context.clearRect(0, 0, fig.canvas.width, fig.canvas.height);\n",
       "            }\n",
       "            fig.context.drawImage(fig.imageObj, 0, 0);\n",
       "        };\n",
       "\n",
       "    this.imageObj.onunload = function() {\n",
       "        fig.ws.close();\n",
       "    }\n",
       "\n",
       "    this.ws.onmessage = this._make_on_message_function(this);\n",
       "\n",
       "    this.ondownload = ondownload;\n",
       "}\n",
       "\n",
       "mpl.figure.prototype._init_header = function() {\n",
       "    var titlebar = $(\n",
       "        '<div class=\"ui-dialog-titlebar ui-widget-header ui-corner-all ' +\n",
       "        'ui-helper-clearfix\"/>');\n",
       "    var titletext = $(\n",
       "        '<div class=\"ui-dialog-title\" style=\"width: 100%; ' +\n",
       "        'text-align: center; padding: 3px;\"/>');\n",
       "    titlebar.append(titletext)\n",
       "    this.root.append(titlebar);\n",
       "    this.header = titletext[0];\n",
       "}\n",
       "\n",
       "\n",
       "\n",
       "mpl.figure.prototype._canvas_extra_style = function(canvas_div) {\n",
       "\n",
       "}\n",
       "\n",
       "\n",
       "mpl.figure.prototype._root_extra_style = function(canvas_div) {\n",
       "\n",
       "}\n",
       "\n",
       "mpl.figure.prototype._init_canvas = function() {\n",
       "    var fig = this;\n",
       "\n",
       "    var canvas_div = $('<div/>');\n",
       "\n",
       "    canvas_div.attr('style', 'position: relative; clear: both; outline: 0');\n",
       "\n",
       "    function canvas_keyboard_event(event) {\n",
       "        return fig.key_event(event, event['data']);\n",
       "    }\n",
       "\n",
       "    canvas_div.keydown('key_press', canvas_keyboard_event);\n",
       "    canvas_div.keyup('key_release', canvas_keyboard_event);\n",
       "    this.canvas_div = canvas_div\n",
       "    this._canvas_extra_style(canvas_div)\n",
       "    this.root.append(canvas_div);\n",
       "\n",
       "    var canvas = $('<canvas/>');\n",
       "    canvas.addClass('mpl-canvas');\n",
       "    canvas.attr('style', \"left: 0; top: 0; z-index: 0; outline: 0\")\n",
       "\n",
       "    this.canvas = canvas[0];\n",
       "    this.context = canvas[0].getContext(\"2d\");\n",
       "\n",
       "    var backingStore = this.context.backingStorePixelRatio ||\n",
       "\tthis.context.webkitBackingStorePixelRatio ||\n",
       "\tthis.context.mozBackingStorePixelRatio ||\n",
       "\tthis.context.msBackingStorePixelRatio ||\n",
       "\tthis.context.oBackingStorePixelRatio ||\n",
       "\tthis.context.backingStorePixelRatio || 1;\n",
       "\n",
       "    mpl.ratio = (window.devicePixelRatio || 1) / backingStore;\n",
       "\n",
       "    var rubberband = $('<canvas/>');\n",
       "    rubberband.attr('style', \"position: absolute; left: 0; top: 0; z-index: 1;\")\n",
       "\n",
       "    var pass_mouse_events = true;\n",
       "\n",
       "    canvas_div.resizable({\n",
       "        start: function(event, ui) {\n",
       "            pass_mouse_events = false;\n",
       "        },\n",
       "        resize: function(event, ui) {\n",
       "            fig.request_resize(ui.size.width, ui.size.height);\n",
       "        },\n",
       "        stop: function(event, ui) {\n",
       "            pass_mouse_events = true;\n",
       "            fig.request_resize(ui.size.width, ui.size.height);\n",
       "        },\n",
       "    });\n",
       "\n",
       "    function mouse_event_fn(event) {\n",
       "        if (pass_mouse_events)\n",
       "            return fig.mouse_event(event, event['data']);\n",
       "    }\n",
       "\n",
       "    rubberband.mousedown('button_press', mouse_event_fn);\n",
       "    rubberband.mouseup('button_release', mouse_event_fn);\n",
       "    // Throttle sequential mouse events to 1 every 20ms.\n",
       "    rubberband.mousemove('motion_notify', mouse_event_fn);\n",
       "\n",
       "    rubberband.mouseenter('figure_enter', mouse_event_fn);\n",
       "    rubberband.mouseleave('figure_leave', mouse_event_fn);\n",
       "\n",
       "    canvas_div.on(\"wheel\", function (event) {\n",
       "        event = event.originalEvent;\n",
       "        event['data'] = 'scroll'\n",
       "        if (event.deltaY < 0) {\n",
       "            event.step = 1;\n",
       "        } else {\n",
       "            event.step = -1;\n",
       "        }\n",
       "        mouse_event_fn(event);\n",
       "    });\n",
       "\n",
       "    canvas_div.append(canvas);\n",
       "    canvas_div.append(rubberband);\n",
       "\n",
       "    this.rubberband = rubberband;\n",
       "    this.rubberband_canvas = rubberband[0];\n",
       "    this.rubberband_context = rubberband[0].getContext(\"2d\");\n",
       "    this.rubberband_context.strokeStyle = \"#000000\";\n",
       "\n",
       "    this._resize_canvas = function(width, height) {\n",
       "        // Keep the size of the canvas, canvas container, and rubber band\n",
       "        // canvas in synch.\n",
       "        canvas_div.css('width', width)\n",
       "        canvas_div.css('height', height)\n",
       "\n",
       "        canvas.attr('width', width * mpl.ratio);\n",
       "        canvas.attr('height', height * mpl.ratio);\n",
       "        canvas.attr('style', 'width: ' + width + 'px; height: ' + height + 'px;');\n",
       "\n",
       "        rubberband.attr('width', width);\n",
       "        rubberband.attr('height', height);\n",
       "    }\n",
       "\n",
       "    // Set the figure to an initial 600x600px, this will subsequently be updated\n",
       "    // upon first draw.\n",
       "    this._resize_canvas(600, 600);\n",
       "\n",
       "    // Disable right mouse context menu.\n",
       "    $(this.rubberband_canvas).bind(\"contextmenu\",function(e){\n",
       "        return false;\n",
       "    });\n",
       "\n",
       "    function set_focus () {\n",
       "        canvas.focus();\n",
       "        canvas_div.focus();\n",
       "    }\n",
       "\n",
       "    window.setTimeout(set_focus, 100);\n",
       "}\n",
       "\n",
       "mpl.figure.prototype._init_toolbar = function() {\n",
       "    var fig = this;\n",
       "\n",
       "    var nav_element = $('<div/>');\n",
       "    nav_element.attr('style', 'width: 100%');\n",
       "    this.root.append(nav_element);\n",
       "\n",
       "    // Define a callback function for later on.\n",
       "    function toolbar_event(event) {\n",
       "        return fig.toolbar_button_onclick(event['data']);\n",
       "    }\n",
       "    function toolbar_mouse_event(event) {\n",
       "        return fig.toolbar_button_onmouseover(event['data']);\n",
       "    }\n",
       "\n",
       "    for(var toolbar_ind in mpl.toolbar_items) {\n",
       "        var name = mpl.toolbar_items[toolbar_ind][0];\n",
       "        var tooltip = mpl.toolbar_items[toolbar_ind][1];\n",
       "        var image = mpl.toolbar_items[toolbar_ind][2];\n",
       "        var method_name = mpl.toolbar_items[toolbar_ind][3];\n",
       "\n",
       "        if (!name) {\n",
       "            // put a spacer in here.\n",
       "            continue;\n",
       "        }\n",
       "        var button = $('<button/>');\n",
       "        button.addClass('ui-button ui-widget ui-state-default ui-corner-all ' +\n",
       "                        'ui-button-icon-only');\n",
       "        button.attr('role', 'button');\n",
       "        button.attr('aria-disabled', 'false');\n",
       "        button.click(method_name, toolbar_event);\n",
       "        button.mouseover(tooltip, toolbar_mouse_event);\n",
       "\n",
       "        var icon_img = $('<span/>');\n",
       "        icon_img.addClass('ui-button-icon-primary ui-icon');\n",
       "        icon_img.addClass(image);\n",
       "        icon_img.addClass('ui-corner-all');\n",
       "\n",
       "        var tooltip_span = $('<span/>');\n",
       "        tooltip_span.addClass('ui-button-text');\n",
       "        tooltip_span.html(tooltip);\n",
       "\n",
       "        button.append(icon_img);\n",
       "        button.append(tooltip_span);\n",
       "\n",
       "        nav_element.append(button);\n",
       "    }\n",
       "\n",
       "    var fmt_picker_span = $('<span/>');\n",
       "\n",
       "    var fmt_picker = $('<select/>');\n",
       "    fmt_picker.addClass('mpl-toolbar-option ui-widget ui-widget-content');\n",
       "    fmt_picker_span.append(fmt_picker);\n",
       "    nav_element.append(fmt_picker_span);\n",
       "    this.format_dropdown = fmt_picker[0];\n",
       "\n",
       "    for (var ind in mpl.extensions) {\n",
       "        var fmt = mpl.extensions[ind];\n",
       "        var option = $(\n",
       "            '<option/>', {selected: fmt === mpl.default_extension}).html(fmt);\n",
       "        fmt_picker.append(option);\n",
       "    }\n",
       "\n",
       "    // Add hover states to the ui-buttons\n",
       "    $( \".ui-button\" ).hover(\n",
       "        function() { $(this).addClass(\"ui-state-hover\");},\n",
       "        function() { $(this).removeClass(\"ui-state-hover\");}\n",
       "    );\n",
       "\n",
       "    var status_bar = $('<span class=\"mpl-message\"/>');\n",
       "    nav_element.append(status_bar);\n",
       "    this.message = status_bar[0];\n",
       "}\n",
       "\n",
       "mpl.figure.prototype.request_resize = function(x_pixels, y_pixels) {\n",
       "    // Request matplotlib to resize the figure. Matplotlib will then trigger a resize in the client,\n",
       "    // which will in turn request a refresh of the image.\n",
       "    this.send_message('resize', {'width': x_pixels, 'height': y_pixels});\n",
       "}\n",
       "\n",
       "mpl.figure.prototype.send_message = function(type, properties) {\n",
       "    properties['type'] = type;\n",
       "    properties['figure_id'] = this.id;\n",
       "    this.ws.send(JSON.stringify(properties));\n",
       "}\n",
       "\n",
       "mpl.figure.prototype.send_draw_message = function() {\n",
       "    if (!this.waiting) {\n",
       "        this.waiting = true;\n",
       "        this.ws.send(JSON.stringify({type: \"draw\", figure_id: this.id}));\n",
       "    }\n",
       "}\n",
       "\n",
       "\n",
       "mpl.figure.prototype.handle_save = function(fig, msg) {\n",
       "    var format_dropdown = fig.format_dropdown;\n",
       "    var format = format_dropdown.options[format_dropdown.selectedIndex].value;\n",
       "    fig.ondownload(fig, format);\n",
       "}\n",
       "\n",
       "\n",
       "mpl.figure.prototype.handle_resize = function(fig, msg) {\n",
       "    var size = msg['size'];\n",
       "    if (size[0] != fig.canvas.width || size[1] != fig.canvas.height) {\n",
       "        fig._resize_canvas(size[0], size[1]);\n",
       "        fig.send_message(\"refresh\", {});\n",
       "    };\n",
       "}\n",
       "\n",
       "mpl.figure.prototype.handle_rubberband = function(fig, msg) {\n",
       "    var x0 = msg['x0'] / mpl.ratio;\n",
       "    var y0 = (fig.canvas.height - msg['y0']) / mpl.ratio;\n",
       "    var x1 = msg['x1'] / mpl.ratio;\n",
       "    var y1 = (fig.canvas.height - msg['y1']) / mpl.ratio;\n",
       "    x0 = Math.floor(x0) + 0.5;\n",
       "    y0 = Math.floor(y0) + 0.5;\n",
       "    x1 = Math.floor(x1) + 0.5;\n",
       "    y1 = Math.floor(y1) + 0.5;\n",
       "    var min_x = Math.min(x0, x1);\n",
       "    var min_y = Math.min(y0, y1);\n",
       "    var width = Math.abs(x1 - x0);\n",
       "    var height = Math.abs(y1 - y0);\n",
       "\n",
       "    fig.rubberband_context.clearRect(\n",
       "        0, 0, fig.canvas.width / mpl.ratio, fig.canvas.height / mpl.ratio);\n",
       "\n",
       "    fig.rubberband_context.strokeRect(min_x, min_y, width, height);\n",
       "}\n",
       "\n",
       "mpl.figure.prototype.handle_figure_label = function(fig, msg) {\n",
       "    // Updates the figure title.\n",
       "    fig.header.textContent = msg['label'];\n",
       "}\n",
       "\n",
       "mpl.figure.prototype.handle_cursor = function(fig, msg) {\n",
       "    var cursor = msg['cursor'];\n",
       "    switch(cursor)\n",
       "    {\n",
       "    case 0:\n",
       "        cursor = 'pointer';\n",
       "        break;\n",
       "    case 1:\n",
       "        cursor = 'default';\n",
       "        break;\n",
       "    case 2:\n",
       "        cursor = 'crosshair';\n",
       "        break;\n",
       "    case 3:\n",
       "        cursor = 'move';\n",
       "        break;\n",
       "    }\n",
       "    fig.rubberband_canvas.style.cursor = cursor;\n",
       "}\n",
       "\n",
       "mpl.figure.prototype.handle_message = function(fig, msg) {\n",
       "    fig.message.textContent = msg['message'];\n",
       "}\n",
       "\n",
       "mpl.figure.prototype.handle_draw = function(fig, msg) {\n",
       "    // Request the server to send over a new figure.\n",
       "    fig.send_draw_message();\n",
       "}\n",
       "\n",
       "mpl.figure.prototype.handle_image_mode = function(fig, msg) {\n",
       "    fig.image_mode = msg['mode'];\n",
       "}\n",
       "\n",
       "mpl.figure.prototype.updated_canvas_event = function() {\n",
       "    // Called whenever the canvas gets updated.\n",
       "    this.send_message(\"ack\", {});\n",
       "}\n",
       "\n",
       "// A function to construct a web socket function for onmessage handling.\n",
       "// Called in the figure constructor.\n",
       "mpl.figure.prototype._make_on_message_function = function(fig) {\n",
       "    return function socket_on_message(evt) {\n",
       "        if (evt.data instanceof Blob) {\n",
       "            /* FIXME: We get \"Resource interpreted as Image but\n",
       "             * transferred with MIME type text/plain:\" errors on\n",
       "             * Chrome.  But how to set the MIME type?  It doesn't seem\n",
       "             * to be part of the websocket stream */\n",
       "            evt.data.type = \"image/png\";\n",
       "\n",
       "            /* Free the memory for the previous frames */\n",
       "            if (fig.imageObj.src) {\n",
       "                (window.URL || window.webkitURL).revokeObjectURL(\n",
       "                    fig.imageObj.src);\n",
       "            }\n",
       "\n",
       "            fig.imageObj.src = (window.URL || window.webkitURL).createObjectURL(\n",
       "                evt.data);\n",
       "            fig.updated_canvas_event();\n",
       "            fig.waiting = false;\n",
       "            return;\n",
       "        }\n",
       "        else if (typeof evt.data === 'string' && evt.data.slice(0, 21) == \"data:image/png;base64\") {\n",
       "            fig.imageObj.src = evt.data;\n",
       "            fig.updated_canvas_event();\n",
       "            fig.waiting = false;\n",
       "            return;\n",
       "        }\n",
       "\n",
       "        var msg = JSON.parse(evt.data);\n",
       "        var msg_type = msg['type'];\n",
       "\n",
       "        // Call the  \"handle_{type}\" callback, which takes\n",
       "        // the figure and JSON message as its only arguments.\n",
       "        try {\n",
       "            var callback = fig[\"handle_\" + msg_type];\n",
       "        } catch (e) {\n",
       "            console.log(\"No handler for the '\" + msg_type + \"' message type: \", msg);\n",
       "            return;\n",
       "        }\n",
       "\n",
       "        if (callback) {\n",
       "            try {\n",
       "                // console.log(\"Handling '\" + msg_type + \"' message: \", msg);\n",
       "                callback(fig, msg);\n",
       "            } catch (e) {\n",
       "                console.log(\"Exception inside the 'handler_\" + msg_type + \"' callback:\", e, e.stack, msg);\n",
       "            }\n",
       "        }\n",
       "    };\n",
       "}\n",
       "\n",
       "// from http://stackoverflow.com/questions/1114465/getting-mouse-location-in-canvas\n",
       "mpl.findpos = function(e) {\n",
       "    //this section is from http://www.quirksmode.org/js/events_properties.html\n",
       "    var targ;\n",
       "    if (!e)\n",
       "        e = window.event;\n",
       "    if (e.target)\n",
       "        targ = e.target;\n",
       "    else if (e.srcElement)\n",
       "        targ = e.srcElement;\n",
       "    if (targ.nodeType == 3) // defeat Safari bug\n",
       "        targ = targ.parentNode;\n",
       "\n",
       "    // jQuery normalizes the pageX and pageY\n",
       "    // pageX,Y are the mouse positions relative to the document\n",
       "    // offset() returns the position of the element relative to the document\n",
       "    var x = e.pageX - $(targ).offset().left;\n",
       "    var y = e.pageY - $(targ).offset().top;\n",
       "\n",
       "    return {\"x\": x, \"y\": y};\n",
       "};\n",
       "\n",
       "/*\n",
       " * return a copy of an object with only non-object keys\n",
       " * we need this to avoid circular references\n",
       " * http://stackoverflow.com/a/24161582/3208463\n",
       " */\n",
       "function simpleKeys (original) {\n",
       "  return Object.keys(original).reduce(function (obj, key) {\n",
       "    if (typeof original[key] !== 'object')\n",
       "        obj[key] = original[key]\n",
       "    return obj;\n",
       "  }, {});\n",
       "}\n",
       "\n",
       "mpl.figure.prototype.mouse_event = function(event, name) {\n",
       "    var canvas_pos = mpl.findpos(event)\n",
       "\n",
       "    if (name === 'button_press')\n",
       "    {\n",
       "        this.canvas.focus();\n",
       "        this.canvas_div.focus();\n",
       "    }\n",
       "\n",
       "    var x = canvas_pos.x * mpl.ratio;\n",
       "    var y = canvas_pos.y * mpl.ratio;\n",
       "\n",
       "    this.send_message(name, {x: x, y: y, button: event.button,\n",
       "                             step: event.step,\n",
       "                             guiEvent: simpleKeys(event)});\n",
       "\n",
       "    /* This prevents the web browser from automatically changing to\n",
       "     * the text insertion cursor when the button is pressed.  We want\n",
       "     * to control all of the cursor setting manually through the\n",
       "     * 'cursor' event from matplotlib */\n",
       "    event.preventDefault();\n",
       "    return false;\n",
       "}\n",
       "\n",
       "mpl.figure.prototype._key_event_extra = function(event, name) {\n",
       "    // Handle any extra behaviour associated with a key event\n",
       "}\n",
       "\n",
       "mpl.figure.prototype.key_event = function(event, name) {\n",
       "\n",
       "    // Prevent repeat events\n",
       "    if (name == 'key_press')\n",
       "    {\n",
       "        if (event.which === this._key)\n",
       "            return;\n",
       "        else\n",
       "            this._key = event.which;\n",
       "    }\n",
       "    if (name == 'key_release')\n",
       "        this._key = null;\n",
       "\n",
       "    var value = '';\n",
       "    if (event.ctrlKey && event.which != 17)\n",
       "        value += \"ctrl+\";\n",
       "    if (event.altKey && event.which != 18)\n",
       "        value += \"alt+\";\n",
       "    if (event.shiftKey && event.which != 16)\n",
       "        value += \"shift+\";\n",
       "\n",
       "    value += 'k';\n",
       "    value += event.which.toString();\n",
       "\n",
       "    this._key_event_extra(event, name);\n",
       "\n",
       "    this.send_message(name, {key: value,\n",
       "                             guiEvent: simpleKeys(event)});\n",
       "    return false;\n",
       "}\n",
       "\n",
       "mpl.figure.prototype.toolbar_button_onclick = function(name) {\n",
       "    if (name == 'download') {\n",
       "        this.handle_save(this, null);\n",
       "    } else {\n",
       "        this.send_message(\"toolbar_button\", {name: name});\n",
       "    }\n",
       "};\n",
       "\n",
       "mpl.figure.prototype.toolbar_button_onmouseover = function(tooltip) {\n",
       "    this.message.textContent = tooltip;\n",
       "};\n",
       "mpl.toolbar_items = [[\"Home\", \"Reset original view\", \"fa fa-home icon-home\", \"home\"], [\"Back\", \"Back to previous view\", \"fa fa-arrow-left icon-arrow-left\", \"back\"], [\"Forward\", \"Forward to next view\", \"fa fa-arrow-right icon-arrow-right\", \"forward\"], [\"\", \"\", \"\", \"\"], [\"Pan\", \"Pan axes with left mouse, zoom with right\", \"fa fa-arrows icon-move\", \"pan\"], [\"Zoom\", \"Zoom to rectangle\", \"fa fa-square-o icon-check-empty\", \"zoom\"], [\"\", \"\", \"\", \"\"], [\"Download\", \"Download plot\", \"fa fa-floppy-o icon-save\", \"download\"]];\n",
       "\n",
       "mpl.extensions = [\"eps\", \"pdf\", \"png\", \"ps\", \"raw\", \"svg\"];\n",
       "\n",
       "mpl.default_extension = \"png\";var comm_websocket_adapter = function(comm) {\n",
       "    // Create a \"websocket\"-like object which calls the given IPython comm\n",
       "    // object with the appropriate methods. Currently this is a non binary\n",
       "    // socket, so there is still some room for performance tuning.\n",
       "    var ws = {};\n",
       "\n",
       "    ws.close = function() {\n",
       "        comm.close()\n",
       "    };\n",
       "    ws.send = function(m) {\n",
       "        //console.log('sending', m);\n",
       "        comm.send(m);\n",
       "    };\n",
       "    // Register the callback with on_msg.\n",
       "    comm.on_msg(function(msg) {\n",
       "        //console.log('receiving', msg['content']['data'], msg);\n",
       "        // Pass the mpl event to the overridden (by mpl) onmessage function.\n",
       "        ws.onmessage(msg['content']['data'])\n",
       "    });\n",
       "    return ws;\n",
       "}\n",
       "\n",
       "mpl.mpl_figure_comm = function(comm, msg) {\n",
       "    // This is the function which gets called when the mpl process\n",
       "    // starts-up an IPython Comm through the \"matplotlib\" channel.\n",
       "\n",
       "    var id = msg.content.data.id;\n",
       "    // Get hold of the div created by the display call when the Comm\n",
       "    // socket was opened in Python.\n",
       "    var element = $(\"#\" + id);\n",
       "    var ws_proxy = comm_websocket_adapter(comm)\n",
       "\n",
       "    function ondownload(figure, format) {\n",
       "        window.open(figure.imageObj.src);\n",
       "    }\n",
       "\n",
       "    var fig = new mpl.figure(id, ws_proxy,\n",
       "                           ondownload,\n",
       "                           element.get(0));\n",
       "\n",
       "    // Call onopen now - mpl needs it, as it is assuming we've passed it a real\n",
       "    // web socket which is closed, not our websocket->open comm proxy.\n",
       "    ws_proxy.onopen();\n",
       "\n",
       "    fig.parent_element = element.get(0);\n",
       "    fig.cell_info = mpl.find_output_cell(\"<div id='\" + id + \"'></div>\");\n",
       "    if (!fig.cell_info) {\n",
       "        console.error(\"Failed to find cell for figure\", id, fig);\n",
       "        return;\n",
       "    }\n",
       "\n",
       "    var output_index = fig.cell_info[2]\n",
       "    var cell = fig.cell_info[0];\n",
       "\n",
       "};\n",
       "\n",
       "mpl.figure.prototype.handle_close = function(fig, msg) {\n",
       "    var width = fig.canvas.width/mpl.ratio\n",
       "    fig.root.unbind('remove')\n",
       "\n",
       "    // Update the output cell to use the data from the current canvas.\n",
       "    fig.push_to_output();\n",
       "    var dataURL = fig.canvas.toDataURL();\n",
       "    // Re-enable the keyboard manager in IPython - without this line, in FF,\n",
       "    // the notebook keyboard shortcuts fail.\n",
       "    IPython.keyboard_manager.enable()\n",
       "    $(fig.parent_element).html('<img src=\"' + dataURL + '\" width=\"' + width + '\">');\n",
       "    fig.close_ws(fig, msg);\n",
       "}\n",
       "\n",
       "mpl.figure.prototype.close_ws = function(fig, msg){\n",
       "    fig.send_message('closing', msg);\n",
       "    // fig.ws.close()\n",
       "}\n",
       "\n",
       "mpl.figure.prototype.push_to_output = function(remove_interactive) {\n",
       "    // Turn the data on the canvas into data in the output cell.\n",
       "    var width = this.canvas.width/mpl.ratio\n",
       "    var dataURL = this.canvas.toDataURL();\n",
       "    this.cell_info[1]['text/html'] = '<img src=\"' + dataURL + '\" width=\"' + width + '\">';\n",
       "}\n",
       "\n",
       "mpl.figure.prototype.updated_canvas_event = function() {\n",
       "    // Tell IPython that the notebook contents must change.\n",
       "    IPython.notebook.set_dirty(true);\n",
       "    this.send_message(\"ack\", {});\n",
       "    var fig = this;\n",
       "    // Wait a second, then push the new image to the DOM so\n",
       "    // that it is saved nicely (might be nice to debounce this).\n",
       "    setTimeout(function () { fig.push_to_output() }, 1000);\n",
       "}\n",
       "\n",
       "mpl.figure.prototype._init_toolbar = function() {\n",
       "    var fig = this;\n",
       "\n",
       "    var nav_element = $('<div/>');\n",
       "    nav_element.attr('style', 'width: 100%');\n",
       "    this.root.append(nav_element);\n",
       "\n",
       "    // Define a callback function for later on.\n",
       "    function toolbar_event(event) {\n",
       "        return fig.toolbar_button_onclick(event['data']);\n",
       "    }\n",
       "    function toolbar_mouse_event(event) {\n",
       "        return fig.toolbar_button_onmouseover(event['data']);\n",
       "    }\n",
       "\n",
       "    for(var toolbar_ind in mpl.toolbar_items){\n",
       "        var name = mpl.toolbar_items[toolbar_ind][0];\n",
       "        var tooltip = mpl.toolbar_items[toolbar_ind][1];\n",
       "        var image = mpl.toolbar_items[toolbar_ind][2];\n",
       "        var method_name = mpl.toolbar_items[toolbar_ind][3];\n",
       "\n",
       "        if (!name) { continue; };\n",
       "\n",
       "        var button = $('<button class=\"btn btn-default\" href=\"#\" title=\"' + name + '\"><i class=\"fa ' + image + ' fa-lg\"></i></button>');\n",
       "        button.click(method_name, toolbar_event);\n",
       "        button.mouseover(tooltip, toolbar_mouse_event);\n",
       "        nav_element.append(button);\n",
       "    }\n",
       "\n",
       "    // Add the status bar.\n",
       "    var status_bar = $('<span class=\"mpl-message\" style=\"text-align:right; float: right;\"/>');\n",
       "    nav_element.append(status_bar);\n",
       "    this.message = status_bar[0];\n",
       "\n",
       "    // Add the close button to the window.\n",
       "    var buttongrp = $('<div class=\"btn-group inline pull-right\"></div>');\n",
       "    var button = $('<button class=\"btn btn-mini btn-primary\" href=\"#\" title=\"Stop Interaction\"><i class=\"fa fa-power-off icon-remove icon-large\"></i></button>');\n",
       "    button.click(function (evt) { fig.handle_close(fig, {}); } );\n",
       "    button.mouseover('Stop Interaction', toolbar_mouse_event);\n",
       "    buttongrp.append(button);\n",
       "    var titlebar = this.root.find($('.ui-dialog-titlebar'));\n",
       "    titlebar.prepend(buttongrp);\n",
       "}\n",
       "\n",
       "mpl.figure.prototype._root_extra_style = function(el){\n",
       "    var fig = this\n",
       "    el.on(\"remove\", function(){\n",
       "\tfig.close_ws(fig, {});\n",
       "    });\n",
       "}\n",
       "\n",
       "mpl.figure.prototype._canvas_extra_style = function(el){\n",
       "    // this is important to make the div 'focusable\n",
       "    el.attr('tabindex', 0)\n",
       "    // reach out to IPython and tell the keyboard manager to turn it's self\n",
       "    // off when our div gets focus\n",
       "\n",
       "    // location in version 3\n",
       "    if (IPython.notebook.keyboard_manager) {\n",
       "        IPython.notebook.keyboard_manager.register_events(el);\n",
       "    }\n",
       "    else {\n",
       "        // location in version 2\n",
       "        IPython.keyboard_manager.register_events(el);\n",
       "    }\n",
       "\n",
       "}\n",
       "\n",
       "mpl.figure.prototype._key_event_extra = function(event, name) {\n",
       "    var manager = IPython.notebook.keyboard_manager;\n",
       "    if (!manager)\n",
       "        manager = IPython.keyboard_manager;\n",
       "\n",
       "    // Check for shift+enter\n",
       "    if (event.shiftKey && event.which == 13) {\n",
       "        this.canvas_div.blur();\n",
       "        // select the cell after this one\n",
       "        var index = IPython.notebook.find_cell_index(this.cell_info[0]);\n",
       "        IPython.notebook.select(index + 1);\n",
       "    }\n",
       "}\n",
       "\n",
       "mpl.figure.prototype.handle_save = function(fig, msg) {\n",
       "    fig.ondownload(fig, null);\n",
       "}\n",
       "\n",
       "\n",
       "mpl.find_output_cell = function(html_output) {\n",
       "    // Return the cell and output element which can be found *uniquely* in the notebook.\n",
       "    // Note - this is a bit hacky, but it is done because the \"notebook_saving.Notebook\"\n",
       "    // IPython event is triggered only after the cells have been serialised, which for\n",
       "    // our purposes (turning an active figure into a static one), is too late.\n",
       "    var cells = IPython.notebook.get_cells();\n",
       "    var ncells = cells.length;\n",
       "    for (var i=0; i<ncells; i++) {\n",
       "        var cell = cells[i];\n",
       "        if (cell.cell_type === 'code'){\n",
       "            for (var j=0; j<cell.output_area.outputs.length; j++) {\n",
       "                var data = cell.output_area.outputs[j];\n",
       "                if (data.data) {\n",
       "                    // IPython >= 3 moved mimebundle to data attribute of output\n",
       "                    data = data.data;\n",
       "                }\n",
       "                if (data['text/html'] == html_output) {\n",
       "                    return [cell, data, j];\n",
       "                }\n",
       "            }\n",
       "        }\n",
       "    }\n",
       "}\n",
       "\n",
       "// Register the function which deals with the matplotlib target/channel.\n",
       "// The kernel may be null if the page has been refreshed.\n",
       "if (IPython.notebook.kernel != null) {\n",
       "    IPython.notebook.kernel.comm_manager.register_target('matplotlib', mpl.mpl_figure_comm);\n",
       "}\n"
      ],
      "text/plain": [
       "<IPython.core.display.Javascript object>"
      ]
     },
     "metadata": {},
     "output_type": "display_data"
    },
    {
     "data": {
      "text/html": [
       "<img src=\"data:image/png;base64,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\" width=\"640\">"
      ],
      "text/plain": [
       "<IPython.core.display.HTML object>"
      ]
     },
     "metadata": {},
     "output_type": "display_data"
    },
    {
     "name": "stderr",
     "output_type": "stream",
     "text": [
      "<ipython-input-7-92580874ed91>:9: MatplotlibDeprecationWarning: Adding an axes using the same arguments as a previous axes currently reuses the earlier instance.  In a future version, a new instance will always be created and returned.  Meanwhile, this warning can be suppressed, and the future behavior ensured, by passing a unique label to each axes instance.\n",
      "  ax = plt.axes()\n"
     ]
    },
    {
     "data": {
      "application/vnd.jupyter.widget-view+json": {
       "model_id": "1f811ae2e3104e979f8bc25ab69d3b41",
       "version_major": 2,
       "version_minor": 0
      },
      "text/plain": [
       "interactive(children=(FloatSlider(value=5.999999999936095, description='x_e', max=6.0, step=0.01), FloatSlider…"
      ]
     },
     "metadata": {},
     "output_type": "display_data"
    }
   ],
   "source": [
    "theta = random.random(N) * 1e-5\n",
    "lambda_ = 1\n",
    "max_step = 0.1\n",
    "def inverse_kinematics(x_e, y_e, theta_e, theta):\n",
    "    target = matrix([[x_e, y_e, theta_e]]).T\n",
    "    for i in range(1000):\n",
    "        Ts = forward_kinematics(T0, l, theta)\n",
    "        Te = matrix([from_trans(Ts[-1])]).T\n",
    "        e = target - Te\n",
    "        e[e > max_step] = max_step\n",
    "        e[e < -max_step] = -max_step\n",
    "        T = matrix([from_trans(i) for i in Ts[1:-1]]).T\n",
    "        J = Te - T\n",
    "        dT = Te - T\n",
    "        J[0, :] = -dT[1, :] # x\n",
    "        J[1, :] = dT[0, :] # y\n",
    "        J[-1, :] = 1  # angular\n",
    "        d_theta = lambda_ * pinv(J) * e\n",
    "        theta += asarray(d_theta.T)[0]\n",
    "        if  linalg.norm(d_theta) < 1e-4:\n",
    "            break\n",
    "    return theta\n",
    "\n",
    "T = forward_kinematics(T0, l, theta)\n",
    "show_robot_arm(T)\n",
    "Te = matrix([from_trans(T[-1])])\n",
    "\n",
    "@interact(x_e=(0, max_len, 0.01), y_e=(-max_len, max_len, 0.01), theta_e=(-pi, pi, 0.01), theta=fixed(theta))\n",
    "def set_end_effector(x_e=Te[0,0], y_e=Te[0,1], theta_e=Te[0,2], theta=theta):\n",
    "    theta = inverse_kinematics(x_e, y_e, theta_e, theta)\n",
    "    T = forward_kinematics(T0, l, theta)\n",
    "    show_robot_arm(T)\n",
    "    return theta"
   ]
  },
  {
   "cell_type": "code",
   "execution_count": null,
   "metadata": {},
   "outputs": [],
   "source": []
  }
 ],
 "metadata": {
  "kernelspec": {
   "display_name": "Python [conda env:robocup]",
   "language": "python",
   "name": "conda-env-robocup-py"
  },
  "language_info": {
   "codemirror_mode": {
    "name": "ipython",
    "version": 3
   },
   "file_extension": ".py",
   "mimetype": "text/x-python",
   "name": "python",
   "nbconvert_exporter": "python",
   "pygments_lexer": "ipython3",
   "version": "3.8.3"
  },
  "widgets": {
   "state": {
    "0065ff23834146a99efd42e25d3294dc": {
     "views": []
    },
    "00c59707f24e4d80b90a6ca59c255d84": {
     "views": [
      {
       "cell": {
        "cell_type": "code",
        "execution_count": 7,
        "metadata": {
         "collapsed": false,
         "trusted": true
        },
        "outputs": [
         {
          "data": {
           "image/png": "iVBORw0KGgoAAAANSUhEUgAAAz4AAAKPCAYAAACsKh+8AAAABHNCSVQICAgIfAhkiAAAAAlwSFlz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\nwgcAAGjv/wNiuh1JRm4QPQAAAABJRU5ErkJggg==\n",
           "text/plain": "<matplotlib.figure.Figure at 0x7f7e6e60add0>"
          },
          "metadata": {},
          "output_type": "display_data"
         }
        ],
        "source": "for i in range(N):\n    @interact(value=(-pi/2, pi/2, 0.1), n=fixed(i))\n    def set_joint_angle(n, value=0):\n        global a\n        a[n] = value\n        T = forward_kinematics(T0, l, a)\n        show_robot_arm(T)\n"
       },
       "cell_index": 10,
       "root": true
      }
     ]
    },
    "00f75449d7d54ba5ba468dfebddab990": {
     "views": []
    },
    "01197fb664744b00857456cf154e7124": {
     "views": []
    },
    "025623f89e024585b05e5f3de8c8fc1e": {
     "views": []
    },
    "02ac05d57f5c42659f040340dcd55ea9": {
     "views": []
    },
    "02d7dfe535434c1698a0f8eeb2a0c835": {
     "views": []
    },
    "02e74237e1be4b489983c17eceffc582": {
     "views": []
    },
    "0306388837804817b89e33a7a41c615d": {
     "views": []
    },
    "03bec2d2dbcd4c34bc951fcd36b34c47": {
     "views": []
    },
    "03bfc095b8424b54aea7b3925bc1c883": {
     "views": []
    },
    "0411d5af1cc945d1b7ef6f618a533290": {
     "views": []
    },
    "044b6e3699664a5ebf3f52745ef9604d": {
     "views": []
    },
    "046acc5e6d8e4bbcaf7d310d440670d0": {
     "views": []
    },
    "04bc6c3f6f1c4db1a7da8baafcaf48ab": {
     "views": []
    },
    "05860612929a4837a45ff10c7098f21c": {
     "views": []
    },
    "066d1043b4ca4cb6a4a52a0e7396aecd": {
     "views": []
    },
    "06cf2a6f329f44e48da63b0e8d2be23f": {
     "views": []
    },
    "0706dfac87a642468fc6d2902a277340": {
     "views": []
    },
    "071db28e83174fadb6480fa59dc351cd": {
     "views": []
    },
    "078cd19f8c5b4e48a16eedf57d4139f5": {
     "views": []
    },
    "07b4147354dc482eadf0d2f2e85a8f5a": {
     "views": []
    },
    "07dfd29a7b2c4e1f817cd16a08a0e69b": {
     "views": []
    },
    "082ee6c3ea5541d59277d73bc3904e81": {
     "views": []
    },
    "08bc4e34c979463eadd9590bdf72c5e2": {
     "views": []
    },
    "08d70037af964a3082f43b7e47558be9": {
     "views": []
    },
    "0976810a8f27407f81cac903cae046c1": {
     "views": []
    },
    "0997f9f997a24efd96a42331f5b643b7": {
     "views": []
    },
    "0998272120cd42de814b1b294615bdac": {
     "views": []
    },
    "0a10f0128c704654a62d8caaa3ce0f96": {
     "views": []
    },
    "0a7a9f646ec0447f83cff55d61643dc1": {
     "views": []
    },
    "0a90d90f570440cf8651f399071e498b": {
     "views": []
    },
    "0ae2bb4809e34834baca0b575d1e3488": {
     "views": []
    },
    "0c3faaaa475e4629a440e89ef47a0ed1": {
     "views": []
    },
    "0c47d4db96974564becbbea3540e0df9": {
     "views": []
    },
    "0ca043f1cdd34fa3807a701624d0f09b": {
     "views": []
    },
    "0ce0f28eb09c46c6b3f72b62f966bb2c": {
     "views": []
    },
    "0d8971b3f89448dfa5b6dcebef4d08a6": {
     "views": []
    },
    "0da1f22325bd471382cc655a93f82f9f": {
     "views": []
    },
    "0e28bc970070433a94639521a153b8ed": {
     "views": []
    },
    "0e7568409c2246cc92276dbd9009ec4d": {
     "views": []
    },
    "0e7a6be183ef4af58a82aa511961c510": {
     "views": []
    },
    "0e8fe06c2bd247418c85a31bee590836": {
     "views": []
    },
    "0ebd979b90d64257acffbd03330c1a53": {
     "views": []
    },
    "0efe43293aa74e7ebaf98e3cb160cb31": {
     "views": []
    },
    "0f1c1ce7e5af4cd689428b9e2317ba63": {
     "views": []
    },
    "0f2675e1e9d44b5592135a1662977760": {
     "views": []
    },
    "0f5e329526044d61b0916b3e41037c72": {
     "views": []
    },
    "0fbb7ae2603c45a8b340823f3a8c7b43": {
     "views": []
    },
    "0ffbc64f07a3429f8516a4183a81820e": {
     "views": []
    },
    "108a1c9a58724430ac137973ac3cb47d": {
     "views": []
    },
    "10985d7bd27541e38bb2260573dab947": {
     "views": []
    },
    "1109bc012659480882e38de485ee5413": {
     "views": []
    },
    "1385ae228a1442ea9aad2e8becc37448": {
     "views": []
    },
    "140542204e6740daaacb0a4c0faa2aba": {
     "views": []
    },
    "14b4efd6bc5246c0a7b46c5bec2ba897": {
     "views": []
    },
    "14e805778a4b4f1eb9d9fb9bbe5fff33": {
     "views": []
    },
    "153e44de9842488f95a70f6b2ee1649d": {
     "views": []
    },
    "155566a370a344f48c7e3251fbddf3ca": {
     "views": []
    },
    "159f5618c9c44f4fb3a3c67da11c29c1": {
     "views": []
    },
    "15c4b76d92a743cf8d505b7234b9dfc8": {
     "views": []
    },
    "15ed897d15b64d29bd69a81190934914": {
     "views": []
    },
    "16285d9d94e94b44885e872a1ca8bae1": {
     "views": []
    },
    "165d51378d4b49eba1b5bbc9a7d752e6": {
     "views": []
    },
    "16b618d2f4824f81aa782be23654a9ed": {
     "views": []
    },
    "171b66d4c00f43c4b7f67becb8817aef": {
     "views": []
    },
    "1720c95b0f5444679b20e0045339335f": {
     "views": []
    },
    "17cc32c2d9bc4c4e8bb3d1962fa89320": {
     "views": []
    },
    "19335fed26e04a08b8c255ece46ccf8e": {
     "views": []
    },
    "19504ebba88a4a3baf26b7380a6db72a": {
     "views": []
    },
    "19b242f0288a414d8c4367ae5953a19b": {
     "views": []
    },
    "1a37bfa87b8f4432967a7dc14e0b3e59": {
     "views": []
    },
    "1a7983cc04404bf58bbae6ca184fb1ff": {
     "views": []
    },
    "1a8f162acf35400a9036c34ef6518a86": {
     "views": []
    },
    "1aa828149cbe4e8bb1090b332d530bae": {
     "views": []
    },
    "1b4ecba2072943f08683ac88a2d35df8": {
     "views": []
    },
    "1baa08ccb9664b529edecb0a001587e4": {
     "views": []
    },
    "1c0bcf60404b4a44830882ffb7ed1973": {
     "views": []
    },
    "1c4144446a22452bbe67809ff3be6ae1": {
     "views": []
    },
    "1c5f7528b6864bafb8c4a4990ef46a2d": {
     "views": [
      {
       "cell": {
        "cell_type": "code",
        "execution_count": 7,
        "metadata": {
         "collapsed": false,
         "trusted": true
        },
        "outputs": [
         {
          "data": {
           "image/png": "iVBORw0KGgoAAAANSUhEUgAAAz4AAAKPCAYAAACsKh+8AAAABHNCSVQICAgIfAhkiAAAAAlwSFlz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\nwgcAAGjv/wNiuh1JRm4QPQAAAABJRU5ErkJggg==\n",
           "text/plain": "<matplotlib.figure.Figure at 0x7f7e6e60add0>"
          },
          "metadata": {},
          "output_type": "display_data"
         }
        ],
        "source": "for i in range(N):\n    @interact(value=(-pi/2, pi/2, 0.1), n=fixed(i))\n    def set_joint_angle(n, value=0):\n        global a\n        a[n] = value\n        T = forward_kinematics(T0, l, a)\n        show_robot_arm(T)\n"
       },
       "cell_index": 10,
       "root": true
      }
     ]
    },
    "1cfd9a6f210b4054bcb39b0429cc55de": {
     "views": []
    },
    "1d683e58238c426daa981843821bbe42": {
     "views": []
    },
    "1da0339e3c6e4a44884e772f18fa4e2b": {
     "views": []
    },
    "1dee2d42496b4c838041027fdf78954d": {
     "views": []
    },
    "1e92889027a541ddb44f454e7f14a387": {
     "views": []
    },
    "1f76e9cb47ce4bf9b0b3452b6bd854a0": {
     "views": []
    },
    "212aab5aa2bf4660a541d175db422584": {
     "views": []
    },
    "22df1d38fd2d43539cc7d9fccbaf577f": {
     "views": []
    },
    "22f22aafaf554defab70e6fe1bf02f58": {
     "views": []
    },
    "2310bd576c5b4f88a20f09a7d851a497": {
     "views": []
    },
    "236f20f3353a427796cd3e1e2d4475f9": {
     "views": []
    },
    "23cf28a2d9f5434696f27517edb1e019": {
     "views": []
    },
    "23e68019becd47078dbd546b0907a08f": {
     "views": []
    },
    "2494fdbd167046d8a7a0fe196ff53f54": {
     "views": []
    },
    "2600b6c694094bffb6043623d1819ea9": {
     "views": []
    },
    "26406e17a6ff431688684397e3d84ecd": {
     "views": [
      {
       "cell": {
        "cell_type": "code",
        "execution_count": 7,
        "metadata": {
         "collapsed": false,
         "trusted": true
        },
        "outputs": [
         {
          "data": {
           "image/png": "iVBORw0KGgoAAAANSUhEUgAAAz4AAAKPCAYAAACsKh+8AAAABHNCSVQICAgIfAhkiAAAAAlwSFlz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\nwgcAAGjv/wNiuh1JRm4QPQAAAABJRU5ErkJggg==\n",
           "text/plain": "<matplotlib.figure.Figure at 0x7f7e6e60add0>"
          },
          "metadata": {},
          "output_type": "display_data"
         }
        ],
        "source": "for i in range(N):\n    @interact(value=(-pi/2, pi/2, 0.1), n=fixed(i))\n    def set_joint_angle(n, value=0):\n        global a\n        a[n] = value\n        T = forward_kinematics(T0, l, a)\n        show_robot_arm(T)\n"
       },
       "cell_index": 10,
       "root": true
      }
     ]
    },
    "26795a5634004f179a4433436959f69c": {
     "views": []
    },
    "28f6bbda5c7d487fa65a3ccfcb890b44": {
     "views": []
    },
    "28fbf1d342404c90b19e51eb06b656a6": {
     "views": []
    },
    "29291248cbaf449dad8c04aefea3c251": {
     "views": []
    },
    "29324c74ce44472d816ddb618e5e7154": {
     "views": []
    },
    "29d7ec8815be42d180e90f0867e537a5": {
     "views": []
    },
    "29ef4faa80594de0ab95b9e1e31a0500": {
     "views": []
    },
    "2aa04ae23f974820977ecc02dc8b6b43": {
     "views": []
    },
    "2ab47ef47437437c8cfaa90fb663193c": {
     "views": []
    },
    "2af796b503d34c988689c3b04df5de24": {
     "views": [
      {
       "cell": {
        "cell_type": "code",
        "execution_count": 24,
        "metadata": {
         "collapsed": false,
         "trusted": true
        },
        "outputs": [
         {
          "data": {
           "image/png": "iVBORw0KGgoAAAANSUhEUgAAAxMAAAKPCAYAAAAWiZfcAAAABHNCSVQICAgIfAhkiAAAAAlwSFlz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\ngg==\n",
           "text/plain": "<matplotlib.figure.Figure at 0x7f7e70534390>"
          },
          "metadata": {},
          "output_type": "display_data"
         }
        ],
        "source": "from numpy import sin, cos, pi, matrix\nfrom math import atan2, acos\n\nT0 = trans(0, 0, 0)\nlv = [0] + range(N, 0, -1)  # length of link, l[0] is ingored\nbf = B\nfor i in range(N):\n    bf = bf.subs(l[i + 1], lv[i + 1])\n\ndef inverse_kinematics(x_e, y_e, theta_e):\n    b = bf.subs(x, x_e).subs(y, y_e).subs(theta, theta_e)\n    b = (b.subs('I', 1).subs('pi', pi).tolist())\n    b = [float(i[0]) for i in b]\n    return b\n    \n@interact(x_e=(0, max_len, 0.1), y_e=(-max_len, max_len, 0.1), theta_e=(-pi, pi, 0.1))\ndef set_end_effector(x_e=5, y_e=0, theta_e=0):\n    b = inverse_kinematics(x_e, y_e, theta_e)\n    T = forward_kinematics(T0, lv, b)\n    show_robot_arm(T)"
       },
       "cell_index": 31,
       "root": true
      }
     ]
    },
    "2b08bea1b4f54c9ba077c00da9f32df4": {
     "views": []
    },
    "2b93cbb0c4224f89849f2dde2fc15157": {
     "views": []
    },
    "2bc083e7865744218921a220b1dcd2bd": {
     "views": []
    },
    "2bd0e43b75c644de982f6ed6526efdd4": {
     "views": []
    },
    "2c34626d64f64cee97c80b20eca8bcca": {
     "views": []
    },
    "2d47a8fbe94e44558b858df765718bf6": {
     "views": []
    },
    "2da22ed89495462aa8367d393c2a7eb3": {
     "views": []
    },
    "2daf53bd4a7446b789c98057a1e8a250": {
     "views": []
    },
    "2dcbbf3b132149afa31062be6a07554c": {
     "views": []
    },
    "2e214dcc0b3c44e9b2328d1951fa682f": {
     "views": []
    },
    "2f158a0aa1a64a06b1e040595d5f3786": {
     "views": []
    },
    "2f2278ef4cfa4853819ae1f6527a3b73": {
     "views": []
    },
    "2f6d2e4e681c4aa69eb193d1231e33eb": {
     "views": []
    },
    "2fbda6a400e84a79aef5b70e619abb96": {
     "views": []
    },
    "3041d69ed88044cea4de4bd0f450c27d": {
     "views": []
    },
    "30d84e2c052640189dbdcf9392defa4c": {
     "views": []
    },
    "31cf7dfafa144ec4a2596eb29add3718": {
     "views": []
    },
    "31e0aedd3ffa43dea7a1c25a5500b106": {
     "views": []
    },
    "32abfd69cd694c50aa2ebee92df33674": {
     "views": []
    },
    "32d299c4eabe4ab0b7f7ce7d320c85bf": {
     "views": []
    },
    "32e5479e6e41479e984f122b75b58d11": {
     "views": []
    },
    "330fab827b204b90ad49370b88945728": {
     "views": []
    },
    "335ed94a336e40a2b69bd63a6f675584": {
     "views": []
    },
    "33602b70c8ec4149afabed51291da3d7": {
     "views": [
      {
       "cell": {
        "cell_type": "code",
        "execution_count": 7,
        "metadata": {
         "collapsed": false,
         "trusted": true
        },
        "outputs": [
         {
          "data": {
           "image/png": "iVBORw0KGgoAAAANSUhEUgAAAz4AAAKPCAYAAACsKh+8AAAABHNCSVQICAgIfAhkiAAAAAlwSFlz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\nwgcAAGjv/wNiuh1JRm4QPQAAAABJRU5ErkJggg==\n",
           "text/plain": "<matplotlib.figure.Figure at 0x7f7e6e60add0>"
          },
          "metadata": {},
          "output_type": "display_data"
         }
        ],
        "source": "for i in range(N):\n    @interact(value=(-pi/2, pi/2, 0.1), n=fixed(i))\n    def set_joint_angle(n, value=0):\n        global a\n        a[n] = value\n        T = forward_kinematics(T0, l, a)\n        show_robot_arm(T)\n"
       },
       "cell_index": 10,
       "root": true
      }
     ]
    },
    "33b2e7d8d4c84e768423aa3803e2b9f5": {
     "views": []
    },
    "33d1a4a3e2984b5999adf4a82ed6d243": {
     "views": []
    },
    "34acdada4843453d86dc7812e4271c09": {
     "views": []
    },
    "356a4ddeac674b17a489dc73c02f2f57": {
     "views": []
    },
    "358e60da5d7c45278a2640a67c6af292": {
     "views": []
    },
    "36aa1b263e224022a6b374b09c44b6fb": {
     "views": []
    },
    "36ff2aeae7a14f91a7be43d3c47a0597": {
     "views": []
    },
    "374ce53463064914b8233dfced2d9d52": {
     "views": []
    },
    "37513503a13b45cfbd26e56238d8c949": {
     "views": []
    },
    "386c80b57d6a404992acaf6469506db3": {
     "views": []
    },
    "389ea982a40d46d591bebd0ee559801e": {
     "views": []
    },
    "38b47640815546939304ec2a6d71c3ad": {
     "views": [
      {
       "cell": {
        "cell_type": "code",
        "execution_count": 7,
        "metadata": {
         "collapsed": false,
         "trusted": true
        },
        "outputs": [
         {
          "data": {
           "image/png": "iVBORw0KGgoAAAANSUhEUgAAAz4AAAKPCAYAAACsKh+8AAAABHNCSVQICAgIfAhkiAAAAAlwSFlz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\nwgcAAGjv/wNiuh1JRm4QPQAAAABJRU5ErkJggg==\n",
           "text/plain": "<matplotlib.figure.Figure at 0x7f7e6e60add0>"
          },
          "metadata": {},
          "output_type": "display_data"
         }
        ],
        "source": "for i in range(N):\n    @interact(value=(-pi/2, pi/2, 0.1), n=fixed(i))\n    def set_joint_angle(n, value=0):\n        global a\n        a[n] = value\n        T = forward_kinematics(T0, l, a)\n        show_robot_arm(T)\n"
       },
       "cell_index": 10,
       "root": true
      }
     ]
    },
    "38bc0f4ca75245689ea57a229c49472a": {
     "views": []
    },
    "38d0989572be494b80d396336d933313": {
     "views": []
    },
    "39240ffe45674b32aa64d099d6e61bd6": {
     "views": []
    },
    "3a5050c9cd9e457fae55d0a598eb4b4f": {
     "views": []
    },
    "3a80053831f94247947bda7171a375f5": {
     "views": []
    },
    "3b0b75b35ae34a6d9576ab19dea42ccd": {
     "views": []
    },
    "3b667c3b4fc4424d8893d82380ed312a": {
     "views": []
    },
    "3bd271b7ed304418a7d058b88a46817c": {
     "views": []
    },
    "3bfb2f44245f4631af2733821fc24f2d": {
     "views": []
    },
    "3c160aed9d4645a3867ab97e9d4428e8": {
     "views": []
    },
    "3c4064aa9a404ca0802954fe0baf05ad": {
     "views": []
    },
    "3c8d97fabeff4d4882982ae88559ca1d": {
     "views": []
    },
    "3ce5b9ab8fbc4af092b37669aef932a9": {
     "views": [
      {
       "cell": {
        "cell_type": "code",
        "execution_count": 7,
        "metadata": {
         "collapsed": false,
         "trusted": true
        },
        "outputs": [
         {
          "data": {
           "image/png": "iVBORw0KGgoAAAANSUhEUgAAAz4AAAKPCAYAAACsKh+8AAAABHNCSVQICAgIfAhkiAAAAAlwSFlz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\nwgcAAGjv/wNiuh1JRm4QPQAAAABJRU5ErkJggg==\n",
           "text/plain": "<matplotlib.figure.Figure at 0x7f7e6e60add0>"
          },
          "metadata": {},
          "output_type": "display_data"
         }
        ],
        "source": "for i in range(N):\n    @interact(value=(-pi/2, pi/2, 0.1), n=fixed(i))\n    def set_joint_angle(n, value=0):\n        global a\n        a[n] = value\n        T = forward_kinematics(T0, l, a)\n        show_robot_arm(T)\n"
       },
       "cell_index": 10,
       "root": true
      }
     ]
    },
    "3cfd0856c6ad4d72957c378772dddceb": {
     "views": []
    },
    "3d5f1dddcb724d6f8776e5beb45145be": {
     "views": []
    },
    "3dc13517176b4d059867e0c5c14b333e": {
     "views": []
    },
    "3e69ea50d1bc4d33a564d6e3dc695803": {
     "views": []
    },
    "3e7ec1eec9bb432ab76638a80530882e": {
     "views": []
    },
    "3ec90899379e473a8a3d9537a9fd3e6a": {
     "views": []
    },
    "3ee2ee71c4df41fe8bcc0e36c035bdc9": {
     "views": []
    },
    "3f1c69d137514a16a98abd88055e502c": {
     "views": []
    },
    "3f419880ead047eda91f3d02a9958b64": {
     "views": [
      {
       "cell": {
        "cell_type": "code",
        "execution_count": 7,
        "metadata": {
         "collapsed": false,
         "trusted": true
        },
        "outputs": [
         {
          "data": {
           "image/png": "iVBORw0KGgoAAAANSUhEUgAAAz4AAAKPCAYAAACsKh+8AAAABHNCSVQICAgIfAhkiAAAAAlwSFlz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\nwgcAAGjv/wNiuh1JRm4QPQAAAABJRU5ErkJggg==\n",
           "text/plain": "<matplotlib.figure.Figure at 0x7f7e6e60add0>"
          },
          "metadata": {},
          "output_type": "display_data"
         }
        ],
        "source": "for i in range(N):\n    @interact(value=(-pi/2, pi/2, 0.1), n=fixed(i))\n    def set_joint_angle(n, value=0):\n        global a\n        a[n] = value\n        T = forward_kinematics(T0, l, a)\n        show_robot_arm(T)\n"
       },
       "cell_index": 10,
       "root": true
      }
     ]
    },
    "3f5ab6e43ca24f5e8e5027949e294b73": {
     "views": []
    },
    "402b967618d643fc97bfae338b61bca7": {
     "views": []
    },
    "406779a8f6d34d4380a191d686a93982": {
     "views": []
    },
    "40f4104efd0a476b8cda2270451a36c6": {
     "views": []
    },
    "413a128d962c46529e2d1e29560a6ae0": {
     "views": []
    },
    "41a1baaa410b4a2b9ef5215415419794": {
     "views": []
    },
    "41bff4e065034fba946a00910cf2bbd0": {
     "views": []
    },
    "4207fd35447646a3ae207eb156e8a1a7": {
     "views": []
    },
    "423b0c0c4c2d4854bb834c78182cbe36": {
     "views": []
    },
    "423eba659fb04fb99eac03114ad2d622": {
     "views": []
    },
    "429a4d65c8584ae791503ab41cb58731": {
     "views": []
    },
    "42d7f50de10a49f8b733885b0af80966": {
     "views": []
    },
    "432d06b78d8f4824bab1a93996b2a14a": {
     "views": []
    },
    "4358fc87be654926bec4b4b2e4440d38": {
     "views": []
    },
    "437bbfd69d6d4a80a94decfaf685876f": {
     "views": []
    },
    "440c429e8f294ce58c5f89ab76abf6c1": {
     "views": []
    },
    "441fdac0c8fb41b993d6f18e4204e6bf": {
     "views": []
    },
    "459c36f2bea74af49733d14f6c617384": {
     "views": []
    },
    "45a70163f8404fd294c9f936bff78828": {
     "views": []
    },
    "45c245c1bb9b4b859b23d15f980cd954": {
     "views": []
    },
    "473397ff39574085ac5ccd578afa8e07": {
     "views": []
    },
    "47eaadb62e4c4204b946f89c2d7cfba0": {
     "views": []
    },
    "47f4537bcdde4e569ddc6f1f1fdf082d": {
     "views": []
    },
    "48a945f1f67a461882f704126b5802e5": {
     "views": []
    },
    "4930cd5ddbaf497d83864cb1776b081c": {
     "views": []
    },
    "49472f1b85d14c5aacb9cd45dc73b937": {
     "views": []
    },
    "4a76aea6fa7844b5a2507caba2fbe80d": {
     "views": []
    },
    "4b34f8f5e4d94f9e88d18705f4a84be0": {
     "views": []
    },
    "4b9169c3066a4e2793168f58c546912e": {
     "views": []
    },
    "4bbf0bfc7f5b41feba7b3ed4fb58b590": {
     "views": []
    },
    "4c222a58cf0844be861fb1c6c3899ac8": {
     "views": []
    },
    "4d3ced97d549466280fe52cf91179ee1": {
     "views": []
    },
    "4d478351c1cb4336910a65566da5a404": {
     "views": []
    },
    "4e113d6cadb946adbfc504f0fc4f4506": {
     "views": []
    },
    "4e2da3d20dad466ebb93919d5acc5873": {
     "views": []
    },
    "4e7424e801804d24a1da1bc325ab4509": {
     "views": []
    },
    "4f313ccb6bf044e6bd4d67bb524477ff": {
     "views": []
    },
    "4f78051096014637bd27c6bb2d9a6fe2": {
     "views": []
    },
    "4f81829f7a2a44ccb3c0246fa42b0099": {
     "views": []
    },
    "4feb7d54900a4b55ade9546899309963": {
     "views": []
    },
    "4ff47f58b3234bb1a8794f408f35b1f9": {
     "views": []
    },
    "502c259235914c65aa122cf102c5f95c": {
     "views": []
    },
    "50602203bbcc4b1da8fa832cb050ea6a": {
     "views": []
    },
    "506abf1a2b804854bda60dad426aeeb6": {
     "views": []
    },
    "50e4995bc4a44719b8fe53616db715b2": {
     "views": []
    },
    "50e5dc84a6ca458a8267ff821bbab146": {
     "views": []
    },
    "5148268d65f64ef1a65d2f2aded3464f": {
     "views": []
    },
    "5148432ae0094c60bf8336c2188e5d97": {
     "views": []
    },
    "51c5280a6a36429ba00c237c1e71daa3": {
     "views": []
    },
    "51eab325838d423c951fe914d2e6f58d": {
     "views": []
    },
    "520196af52bb43d297c17f47b9a14cdc": {
     "views": []
    },
    "5296222172c44bb09a734e048885969a": {
     "views": []
    },
    "542cd1d22bcc4f9b8bbd027276654935": {
     "views": []
    },
    "5487e5d9a6114e3692a8b47c0115f9ef": {
     "views": []
    },
    "5501bd1747a649b684b6d41b422cb957": {
     "views": []
    },
    "553dac4558df4e5ab758a21559fb80b7": {
     "views": []
    },
    "55782ed84520477e9e0a4f24b6a0a294": {
     "views": []
    },
    "557ca17fb98a44d7931b118ccb20944d": {
     "views": []
    },
    "560ad4d8eddf4b2b900d18ded3210c7e": {
     "views": []
    },
    "56484c45895249018f169130a7e6aa98": {
     "views": []
    },
    "56db0e442c794624a9ada6b09daee590": {
     "views": []
    },
    "575e9ad19d414ba7848848d58bb7cb0e": {
     "views": []
    },
    "57659cbe98984d7e941d4fa94fc557e2": {
     "views": []
    },
    "57fcba7a75ab495a838548811f4dd804": {
     "views": []
    },
    "580b97bcc0c941fe8e6b707fb141d7eb": {
     "views": []
    },
    "58302abf49e347429bb7761fbbe33231": {
     "views": []
    },
    "58483ecde6ac44d49dc8482c986b6ddc": {
     "views": []
    },
    "58c882595c8e4800b34dae7974f07f19": {
     "views": []
    },
    "592a0a75fe434c05adb20c5ad8589421": {
     "views": []
    },
    "5943051f8c184c52acf56edbd48d5fb1": {
     "views": []
    },
    "59894859a6f34e528248367e05521199": {
     "views": []
    },
    "5acec54672e94c2cbae1da33a69a7a41": {
     "views": []
    },
    "5b0e4b7f52a14ed0925d6fccdad1c8f8": {
     "views": []
    },
    "5b8d22559a3047f986bd55309324c916": {
     "views": []
    },
    "5b9bde91070b4dccbd5a87a235f01887": {
     "views": []
    },
    "5cd2e158c2d24f7c950ec6954da1bef3": {
     "views": []
    },
    "5d783e15f0fe42f09e0b64f141ad229b": {
     "views": [
      {
       "cell": {
        "cell_type": "code",
        "execution_count": 7,
        "metadata": {
         "collapsed": false,
         "trusted": true
        },
        "outputs": [
         {
          "data": {
           "image/png": "iVBORw0KGgoAAAANSUhEUgAAAz4AAAKPCAYAAACsKh+8AAAABHNCSVQICAgIfAhkiAAAAAlwSFlz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\nwgcAAGjv/wNiuh1JRm4QPQAAAABJRU5ErkJggg==\n",
           "text/plain": "<matplotlib.figure.Figure at 0x7f7e6e60add0>"
          },
          "metadata": {},
          "output_type": "display_data"
         }
        ],
        "source": "for i in range(N):\n    @interact(value=(-pi/2, pi/2, 0.1), n=fixed(i))\n    def set_joint_angle(n, value=0):\n        global a\n        a[n] = value\n        T = forward_kinematics(T0, l, a)\n        show_robot_arm(T)\n"
       },
       "cell_index": 10,
       "root": true
      }
     ]
    },
    "5dbe6899de6941e4baa16dc072df40c9": {
     "views": []
    },
    "5e8769162a4140d5bc70b8aec03e7ad8": {
     "views": []
    },
    "5e87aee9f185402f8ff57a465fbe73e7": {
     "views": []
    },
    "5ef7e2e41c0043bc8a55756ce22df3e9": {
     "views": []
    },
    "5fef33cf88954c079bf52d5dbbb0339f": {
     "views": []
    },
    "61ac09cef9924de2a2146dcb2b2e852e": {
     "views": []
    },
    "621c02cb75364b558abc79df43f8b70e": {
     "views": []
    },
    "63511e5c5aa34ec3a58130ae0d8b6bdf": {
     "views": []
    },
    "63775a25bb2b4ee9b8446ceef21818fc": {
     "views": []
    },
    "639c23cf0db44536a5f78136ea5b449e": {
     "views": []
    },
    "63d34734668d4d4e8a9abd079cfffcc9": {
     "views": []
    },
    "647b63c63fed43daa91f41fe25b22482": {
     "views": []
    },
    "64976a06e0c24cbebbe7fe4ebe3ee1cd": {
     "views": []
    },
    "654d4b7dbb4a4a18bcb54cc292d2f4bb": {
     "views": []
    },
    "6628109154014be7a19c42fb56a91ef8": {
     "views": [
      {
       "cell": {
        "cell_type": "code",
        "execution_count": 7,
        "metadata": {
         "collapsed": false,
         "trusted": true
        },
        "outputs": [
         {
          "data": {
           "image/png": "iVBORw0KGgoAAAANSUhEUgAAAz4AAAKPCAYAAACsKh+8AAAABHNCSVQICAgIfAhkiAAAAAlwSFlz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\nwgcAAGjv/wNiuh1JRm4QPQAAAABJRU5ErkJggg==\n",
           "text/plain": "<matplotlib.figure.Figure at 0x7f7e6e60add0>"
          },
          "metadata": {},
          "output_type": "display_data"
         }
        ],
        "source": "for i in range(N):\n    @interact(value=(-pi/2, pi/2, 0.1), n=fixed(i))\n    def set_joint_angle(n, value=0):\n        global a\n        a[n] = value\n        T = forward_kinematics(T0, l, a)\n        show_robot_arm(T)\n"
       },
       "cell_index": 10,
       "root": true
      }
     ]
    },
    "66b011dbaa5c41fcb4c71d72f55af266": {
     "views": []
    },
    "66ecc76b33ce4b9dbf080bae63d3d6d7": {
     "views": []
    },
    "67377e0ad39f42a19133ea575e166cfd": {
     "views": []
    },
    "674d2cf140c5448d9fe5b7a5cceac6ba": {
     "views": []
    },
    "67e0805befc644748271decde7bf1218": {
     "views": []
    },
    "697a98b6e58844049a81cc4b5da87be0": {
     "views": []
    },
    "69d28d94f5eb40a3879b21f9507e6121": {
     "views": []
    },
    "6a212e13893a4ab0a241a89a6007906c": {
     "views": []
    },
    "6abd33d635584ac3bbe8902f7ddd90d4": {
     "views": []
    },
    "6b17c7b15ea1410a93477b40977226b5": {
     "views": []
    },
    "6ca5197312004a9683d386408cc08392": {
     "views": []
    },
    "6d017c1c4b01499693c498de96d7f97a": {
     "views": []
    },
    "6d17774c8b64462f93b8462a77e58415": {
     "views": []
    },
    "6db471bbc3794e53a4fda8828961360a": {
     "views": []
    },
    "6de8f2d679c1445fbc3ce051fec75a1e": {
     "views": []
    },
    "6e070ef4748e4e40a987b6aacf122e0c": {
     "views": []
    },
    "6e82cccbb1344bc3b20c3175f52608d0": {
     "views": []
    },
    "6e9a98ffa31b449d9c137b9f1f0359f3": {
     "views": []
    },
    "6ecb03b3ef024b1085696a8f3b41d3ba": {
     "views": []
    },
    "6ee8f1f634974b8ba9558e4322b4c6d4": {
     "views": []
    },
    "6f3a909c6f774a7b8d713440c87b0850": {
     "views": []
    },
    "7005e042210046bbbcb8774e321ad2de": {
     "views": []
    },
    "70e70828620b42e4a1691ab4a0002e47": {
     "views": []
    },
    "71356f391594493c9b6618e8439701bc": {
     "views": []
    },
    "7157f92cb89a403785ac94702c38681a": {
     "views": []
    },
    "715a4c01b195434c9c1c082a04e7adde": {
     "views": [
      {
       "cell": {
        "cell_type": "code",
        "execution_count": 7,
        "metadata": {
         "collapsed": false,
         "trusted": true
        },
        "outputs": [
         {
          "data": {
           "image/png": "iVBORw0KGgoAAAANSUhEUgAAAz4AAAKPCAYAAACsKh+8AAAABHNCSVQICAgIfAhkiAAAAAlwSFlz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\nwgcAAGjv/wNiuh1JRm4QPQAAAABJRU5ErkJggg==\n",
           "text/plain": "<matplotlib.figure.Figure at 0x7f7e6e60add0>"
          },
          "metadata": {},
          "output_type": "display_data"
         }
        ],
        "source": "for i in range(N):\n    @interact(value=(-pi/2, pi/2, 0.1), n=fixed(i))\n    def set_joint_angle(n, value=0):\n        global a\n        a[n] = value\n        T = forward_kinematics(T0, l, a)\n        show_robot_arm(T)\n"
       },
       "cell_index": 10,
       "root": true
      }
     ]
    },
    "71fe3ab37df047f8af2367d8f9a79994": {
     "views": []
    },
    "72231c63ee8d4c2196df2b889e895eb7": {
     "views": []
    },
    "7224f8df15bf4c81b657da552ca9ed24": {
     "views": []
    },
    "730a7d996a3a4ff18f7d3dd9ec5f5ae8": {
     "views": []
    },
    "73736b6f6f69435d971a25fe39a572df": {
     "views": []
    },
    "73b62c199ef741e6b2e86487476ed81d": {
     "views": []
    },
    "745aea5ce26e4cbd9559786ae4f2c9a5": {
     "views": []
    },
    "74932e9cb8f64a30b15936223eb666e6": {
     "views": []
    },
    "74ec10ad98f44cae8ec7cb23bca2e7e8": {
     "views": []
    },
    "755577b3878e4659a9d79c14d1a8b663": {
     "views": []
    },
    "75a0ef9fd2144683a0c221172e75686c": {
     "views": [
      {
       "cell": {
        "cell_type": "code",
        "execution_count": 7,
        "metadata": {
         "collapsed": false,
         "trusted": true
        },
        "outputs": [
         {
          "data": {
           "image/png": "iVBORw0KGgoAAAANSUhEUgAAAz4AAAKPCAYAAACsKh+8AAAABHNCSVQICAgIfAhkiAAAAAlwSFlz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\nwgcAAGjv/wNiuh1JRm4QPQAAAABJRU5ErkJggg==\n",
           "text/plain": "<matplotlib.figure.Figure at 0x7f7e6e60add0>"
          },
          "metadata": {},
          "output_type": "display_data"
         }
        ],
        "source": "for i in range(N):\n    @interact(value=(-pi/2, pi/2, 0.1), n=fixed(i))\n    def set_joint_angle(n, value=0):\n        global a\n        a[n] = value\n        T = forward_kinematics(T0, l, a)\n        show_robot_arm(T)\n"
       },
       "cell_index": 10,
       "root": true
      }
     ]
    },
    "76003fe0a0e943fdbbe0391163fca3c0": {
     "views": []
    },
    "764bbadf61ac4bfba5c193d7562c6b89": {
     "views": []
    },
    "76878ad61be447418f71384c72be4989": {
     "views": []
    },
    "76a146ecc38a4fd3b910bb6c80a21aa6": {
     "views": []
    },
    "76bba0168ca74f5cae007378abb0a42c": {
     "views": []
    },
    "7714c84005eb41aa8073bc7267d94a49": {
     "views": []
    },
    "771da58bff8d45f48035c6f6dfbb0247": {
     "views": []
    },
    "7747d8da20ff4a8dbe04451e717037de": {
     "views": []
    },
    "779074abb57847c297259a8cfc62b864": {
     "views": []
    },
    "77ab5fa940aa4b83b3c4f15978a8c421": {
     "views": []
    },
    "77dae2f56add4b248fc8f337e2275370": {
     "views": []
    },
    "77fd06f6283343d98f53532ef885653a": {
     "views": []
    },
    "78922887d84c4d7993e3927b0dd838dd": {
     "views": []
    },
    "78ab8eb75a9f4eabb5c720f189ac0f82": {
     "views": []
    },
    "78ee2228e4a446fb96c5b05aabbed2f1": {
     "views": []
    },
    "78f31375e7d4470f98433d2d5c9f502d": {
     "views": []
    },
    "78f408ebfd2340ce9b9811b5e927f975": {
     "views": []
    },
    "79282081c34f434aadb044725a85bdc9": {
     "views": []
    },
    "795112a196b04c87a3b6624e243d5cc5": {
     "views": []
    },
    "7ab30028c509498ab7d830a537fdc21d": {
     "views": []
    },
    "7b2bfdef9f1642e38535e57feedfc381": {
     "views": []
    },
    "7cd0a60dcf9f4b2682bcc67379fd55dd": {
     "views": []
    },
    "7ce4994437d3413da6527af5d4e6b930": {
     "views": []
    },
    "7d1ed91c8df7452b9e2a6ddb8f7d8557": {
     "views": []
    },
    "7d444aa6065d45ba833da38d2fb90570": {
     "views": []
    },
    "7d45674650244446908304c2ba4c4a96": {
     "views": []
    },
    "7d61a398112f434892875cc03383fec7": {
     "views": []
    },
    "7d705660cb834878a36c134f6105e80e": {
     "views": []
    },
    "7dca5aaa136a4593b8a3aa2e0a24a754": {
     "views": []
    },
    "7dd210e55e304374bb21b7d46e3e5ed4": {
     "views": []
    },
    "7ee10d2a055e49ca9660e9446a51cb11": {
     "views": []
    },
    "7f0ec4266ec14f248d0093f483e65691": {
     "views": []
    },
    "7f5cbac936b440779d1b916fae9c0733": {
     "views": []
    },
    "7f6825787c254ee3840bce150c62fd09": {
     "views": []
    },
    "8076d1e6559b44bea3b3ce473234c6f5": {
     "views": []
    },
    "807e6397667547348051ab273e7c2646": {
     "views": []
    },
    "80c67420490d4018beb1de5c5ef80353": {
     "views": []
    },
    "81058127ab67471c9c9d42aa6adb9f4a": {
     "views": []
    },
    "810aa640b20a48d4ac7a6e0c1292c38b": {
     "views": []
    },
    "81f43a6480f64b7b85db422b7181d64d": {
     "views": []
    },
    "8232dc34462a4b50b05651b09d1cfed3": {
     "views": []
    },
    "836adde1e8ac4901a68a338072f9265a": {
     "views": []
    },
    "844023a0b67545e6a7b736c9c88f3774": {
     "views": []
    },
    "846659cf6d5d4e579bd085c5abbbccd7": {
     "views": []
    },
    "8506f13d29854bc1ab3b6cc61912ecac": {
     "views": []
    },
    "850c17b209e24a8cb08f3302a5eacf3c": {
     "views": []
    },
    "856832257ef14043af5f05a4f4e53108": {
     "views": []
    },
    "862af38d79ca48b79a2c3f58a8bca63b": {
     "views": []
    },
    "862d527c58ac44df9d2828447b1194b7": {
     "views": []
    },
    "8659caad67c44ead821bfaeeb81d9662": {
     "views": []
    },
    "86f51cbd07bc469fb86b9fd95bb0a432": {
     "views": []
    },
    "87c9b681640548cda63b491432a717b7": {
     "views": []
    },
    "8850e420a70e40cdadaa0cb98f706cbd": {
     "views": []
    },
    "8959d66d8d124a65a86aa0913bd458e6": {
     "views": []
    },
    "8986e01c90cc4f7e8129a5b8e6b44eba": {
     "views": []
    },
    "89c530dda5eb4ae2a6a5494bcf476cd3": {
     "views": []
    },
    "8a1c851f0d664ae2a38fad87b52c5d7a": {
     "views": []
    },
    "8a28e4f00a634b8da131d58e3f80e0a1": {
     "views": []
    },
    "8a7e287b5bc5444f9d4e744641fbed6a": {
     "views": []
    },
    "8a814ec4656946f6ae0934797ae6c6ed": {
     "views": []
    },
    "8ac353a448ca423cb1c973c85fb1cfcd": {
     "views": []
    },
    "8be4ce5846a2401da7e9e1541ad89ebe": {
     "views": []
    },
    "8bf08bd9d7494ca0a2f3b3a2d0821379": {
     "views": []
    },
    "8c563433df884ede8da3cf09f3d12c9b": {
     "views": []
    },
    "8d2d0c8d02f448f891ace3be57a6007c": {
     "views": []
    },
    "8d7a87e6c656415687f4aac07587d37a": {
     "views": []
    },
    "8df75c9715c4420aadc78c5616b630a1": {
     "views": []
    },
    "8e1a455843e44246930ddf48e576f596": {
     "views": []
    },
    "8e6df76d630a4e429c9f9b34d769852e": {
     "views": []
    },
    "91d26359e19d4c108bf81e55512e2f1c": {
     "views": []
    },
    "922ccb204ab34dc48233990308a0f181": {
     "views": []
    },
    "9284c33b60e540468611b74b1ce0803c": {
     "views": []
    },
    "929b9865d5e24ffbb0503010f1f74ec6": {
     "views": []
    },
    "942815f2227f4dd3897a509683ec7440": {
     "views": []
    },
    "943851c1d7914fe982eb4b0cab395f3b": {
     "views": []
    },
    "9444aeb1ad574274917df73a0b3bc7a6": {
     "views": []
    },
    "94485ed590f84177b37b63ccb8b82971": {
     "views": []
    },
    "9489d5c77aa44afc8b605a39209ba673": {
     "views": []
    },
    "94c8c972301c467a813f0d2804ed453d": {
     "views": []
    },
    "94f53cb7f3fc469cab4d6516de141579": {
     "views": []
    },
    "94fdf5141dfc46a9aa7949bd2ff2f933": {
     "views": []
    },
    "9593c52a782b490aa55139ac9e50047a": {
     "views": []
    },
    "95a07c01e5364b6e8d326b20a3b40632": {
     "views": []
    },
    "95b70460d1e34f5fa897895ddd9b004d": {
     "views": []
    },
    "95e09b11bb494afbbc077af37032f070": {
     "views": []
    },
    "96128cb6cc6546509b043107cff4ed5f": {
     "views": []
    },
    "961f9cf320524e48bb201b67deeeb19f": {
     "views": []
    },
    "9671ffc734974e7991a1c8182a245233": {
     "views": []
    },
    "967c3ebfee7746b599072ec50f618b51": {
     "views": []
    },
    "96e794d7916d4ff29cfd406da4a64ba9": {
     "views": []
    },
    "96ed4e7ca8984ccbac3afc8207321357": {
     "views": []
    },
    "9709fb06c5e946349ddefac58453b635": {
     "views": []
    },
    "971ccf47cc1e41ffa9f18b2bb5a5c095": {
     "views": []
    },
    "9737e26f026444fda30896fcd6f7ba59": {
     "views": []
    },
    "9746904fb0bb4a72a22fa574bab45f1e": {
     "views": []
    },
    "97b0feafc8fa41489451f40edd686abf": {
     "views": []
    },
    "97bfb4b134a04b1d9cdccb0e7bc47634": {
     "views": []
    },
    "97cb5255096244bfb858c3592db6595a": {
     "views": []
    },
    "981c04787ab14f868f8a0a5e572ff0f0": {
     "views": []
    },
    "98558e929fb447b1a0d450a29effdce6": {
     "views": []
    },
    "989eb48d7ef74f56b543c33c0f57119e": {
     "views": []
    },
    "98a41e3f379c41578dea0c1df4c8311a": {
     "views": []
    },
    "98bca9417a09414bbd7e372f67905d51": {
     "views": []
    },
    "98ea6590a7c041379fe58d8510e5fdcd": {
     "views": []
    },
    "98f1d54c470f4397bb682cc719bf501e": {
     "views": []
    },
    "9930fb05134747ba80c2e9205206a8d4": {
     "views": []
    },
    "99f2f2bf9085493bb010fe456dfd3c77": {
     "views": []
    },
    "9a042e9620434bfb819c9f89cdcef242": {
     "views": []
    },
    "9a0ca5ceee5e4a4d92aab9acc3d90e67": {
     "views": [
      {
       "cell": {
        "cell_type": "code",
        "execution_count": 7,
        "metadata": {
         "collapsed": false,
         "trusted": true
        },
        "outputs": [
         {
          "data": {
           "image/png": "iVBORw0KGgoAAAANSUhEUgAAAz4AAAKPCAYAAACsKh+8AAAABHNCSVQICAgIfAhkiAAAAAlwSFlz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\nwgcAAGjv/wNiuh1JRm4QPQAAAABJRU5ErkJggg==\n",
           "text/plain": "<matplotlib.figure.Figure at 0x7f7e6e60add0>"
          },
          "metadata": {},
          "output_type": "display_data"
         }
        ],
        "source": "for i in range(N):\n    @interact(value=(-pi/2, pi/2, 0.1), n=fixed(i))\n    def set_joint_angle(n, value=0):\n        global a\n        a[n] = value\n        T = forward_kinematics(T0, l, a)\n        show_robot_arm(T)\n"
       },
       "cell_index": 10,
       "root": true
      }
     ]
    },
    "9a19791b387e4c5a913a92790141f553": {
     "views": []
    },
    "9a3dd9ada08d4312b729bc1891e43f1a": {
     "views": []
    },
    "9a81582415584ce588f6a1c53b927d32": {
     "views": []
    },
    "9ae0d4a38f1e4b498b0bc4801df700ec": {
     "views": []
    },
    "9aef67ddda784eb7b93dc9c617ef03ec": {
     "views": []
    },
    "9b917897eeb24144930072d47c8a7571": {
     "views": []
    },
    "9bd57fc229d24f9aa65f8366028e3007": {
     "views": []
    },
    "9bdd3a0d16de4cd7801d67957b196382": {
     "views": []
    },
    "9c13a849122d47458c4ab77c56edf863": {
     "views": []
    },
    "9c9748ffe74d4a5cbc26aef71c6e4780": {
     "views": []
    },
    "9ce4a1bcfd694843a536393891af83be": {
     "views": []
    },
    "9d7f35226a3a4f6c9ae12362454a9716": {
     "views": []
    },
    "9dba4d8a3c4d420492b5b5ac732b5fa0": {
     "views": []
    },
    "9dd653229bd649df86e7ce3d5688e963": {
     "views": []
    },
    "9dddfa92060a4a4ab09253e94473d45e": {
     "views": [
      {
       "cell": {
        "cell_type": "code",
        "execution_count": 7,
        "metadata": {
         "collapsed": false,
         "trusted": true
        },
        "outputs": [
         {
          "data": {
           "image/png": "iVBORw0KGgoAAAANSUhEUgAAAz4AAAKPCAYAAACsKh+8AAAABHNCSVQICAgIfAhkiAAAAAlwSFlz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\nwgcAAGjv/wNiuh1JRm4QPQAAAABJRU5ErkJggg==\n",
           "text/plain": "<matplotlib.figure.Figure at 0x7f7e6e60add0>"
          },
          "metadata": {},
          "output_type": "display_data"
         }
        ],
        "source": "for i in range(N):\n    @interact(value=(-pi/2, pi/2, 0.1), n=fixed(i))\n    def set_joint_angle(n, value=0):\n        global a\n        a[n] = value\n        T = forward_kinematics(T0, l, a)\n        show_robot_arm(T)\n"
       },
       "cell_index": 10,
       "root": true
      }
     ]
    },
    "9ed9af812afd4824ae37de57527dbe04": {
     "views": []
    },
    "9ee6f262ac364087a35690994d9c777e": {
     "views": []
    },
    "9eef7f00bb544fdc85ac22d60e29b2cc": {
     "views": []
    },
    "9f295bd3ba0a424fbbc45da512f6bea9": {
     "views": []
    },
    "a0a561f1b4554e13aa87081b7d714d17": {
     "views": []
    },
    "a0cb4f4cc1924829826f8b13dc9c2700": {
     "views": []
    },
    "a0d45770e9364f16ad743568ce0d4baf": {
     "views": []
    },
    "a0e8a2c9ba5b47b7bd520aed0eeb8a2c": {
     "views": []
    },
    "a10daed678bc4e31b46716d918bcce1e": {
     "views": []
    },
    "a11b2c64cb654e509999eec253045444": {
     "views": []
    },
    "a165e7ee9b574a9bb1d515b055099c71": {
     "views": []
    },
    "a2e3c80098b7422880ffba2c4424e236": {
     "views": []
    },
    "a3692a56420240858fd193c030fa1a5d": {
     "views": []
    },
    "a3b31e9e4a994d8f9d2246adfcb882f3": {
     "views": []
    },
    "a47b898cf1cf4dda871a9c3d1854c2c7": {
     "views": []
    },
    "a4ab2fd0be014ecdaf6951ec1e613717": {
     "views": []
    },
    "a4cc8616d713406fa2b0d88c787492ef": {
     "views": []
    },
    "a62809bcaaaa476d9873d5a6821f7ff7": {
     "views": []
    },
    "a67f960425844150acae36c4a11bb270": {
     "views": []
    },
    "a68636cb0d7f48fd9476223e56e5836e": {
     "views": []
    },
    "a6978d6b8172402198e2d6805ddade00": {
     "views": []
    },
    "a6ec984ef08c445496dc89501b760ade": {
     "views": []
    },
    "a8bc94010cc74a0bbac9939a4fd9276d": {
     "views": []
    },
    "a8c1a89930c64b5f92245524b10c60bc": {
     "views": []
    },
    "a9e26b2037e944f087408db70155c888": {
     "views": []
    },
    "aa1463eaa1664fd28f0ba461dcf6ace1": {
     "views": []
    },
    "aae8913ea5ac4c68928076f10a251aa3": {
     "views": []
    },
    "aaea21e37619448a957d13e15fbaa90e": {
     "views": []
    },
    "ab4881ca82dd421486f3b6079b18f4fb": {
     "views": []
    },
    "ab79df375c9145a4a5de033070f21068": {
     "views": []
    },
    "ac3425cd0b5549c1b6122fd6ae492d5d": {
     "views": []
    },
    "ac6182fddd3740428187c68fff085376": {
     "views": []
    },
    "ac767e113c044a4c8dcc55edabd9c3bc": {
     "views": []
    },
    "ad032275625a4754956bc5eefaec7418": {
     "views": []
    },
    "ad07b73b4d4441c29670d42615a7ca6e": {
     "views": []
    },
    "ad76edec4856470c9500a4c0b63710f6": {
     "views": []
    },
    "ae1dd2fe05224d5992d3e2c6bff50322": {
     "views": []
    },
    "ae69f8830a034a5aabb75b12921db73a": {
     "views": []
    },
    "ae7809842e42462a9f6fb0b024e51542": {
     "views": []
    },
    "af4987ac07eb4c5d97a5ea71dd128b42": {
     "views": []
    },
    "af62547a4d7d4383a8f5de9f04a145da": {
     "views": []
    },
    "afb9dc2bf8404cd2b29c646fb1e1e8fc": {
     "views": []
    },
    "afd302529056487398bc4e5b3252e470": {
     "views": []
    },
    "b018508d019d49a3976590ad8440079a": {
     "views": []
    },
    "b048d199698d4fd189d74c77a4ef1c82": {
     "views": []
    },
    "b06bf370e25e471eb74e9de4420bcd16": {
     "views": [
      {
       "cell": {
        "cell_type": "code",
        "execution_count": 7,
        "metadata": {
         "collapsed": false,
         "trusted": true
        },
        "outputs": [
         {
          "data": {
           "image/png": "iVBORw0KGgoAAAANSUhEUgAAAz4AAAKPCAYAAACsKh+8AAAABHNCSVQICAgIfAhkiAAAAAlwSFlz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\nwgcAAGjv/wNiuh1JRm4QPQAAAABJRU5ErkJggg==\n",
           "text/plain": "<matplotlib.figure.Figure at 0x7f7e6e60add0>"
          },
          "metadata": {},
          "output_type": "display_data"
         }
        ],
        "source": "for i in range(N):\n    @interact(value=(-pi/2, pi/2, 0.1), n=fixed(i))\n    def set_joint_angle(n, value=0):\n        global a\n        a[n] = value\n        T = forward_kinematics(T0, l, a)\n        show_robot_arm(T)\n"
       },
       "cell_index": 10,
       "root": true
      }
     ]
    },
    "b0939de0ddd64138a947665fc7d23e20": {
     "views": []
    },
    "b097623d1e7a4a48b11b1f405d98d4e8": {
     "views": []
    },
    "b1318684110d42d79687a6386cbae811": {
     "views": [
      {
       "cell": {
        "cell_type": "code",
        "execution_count": 25,
        "metadata": {
         "collapsed": false,
         "trusted": true
        },
        "outputs": [
         {
          "data": {
           "image/png": "iVBORw0KGgoAAAANSUhEUgAAAzoAAAKPCAYAAAClwb/GAAAABHNCSVQICAgIfAhkiAAAAAlwSFlz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\nAACgO0IHAADojtABAAC6I3QAAIDu/P+zHD7CA7x3IAAAAABJRU5ErkJggg==\n",
           "text/plain": "<matplotlib.figure.Figure at 0x7f7e6b4d6ad0>"
          },
          "metadata": {},
          "output_type": "display_data"
         }
        ],
        "source": "from numpy import asarray\ntheta = asarray([0.1] * N)\nlambda_ = 0.001\ndef inverse_kinematics(x_e, y_e, theta_e, theta):\n    target = matrix([[x_e, y_e, theta_e]])\n    while True:\n        T = forward_kinematics(T0, lv, theta)\n        Te = matrix([from_trans(T[-1])])\n        e = target - Te\n        T = matrix([from_trans(i) for i in T[1:-1]])\n        J = Te - T\n        J = J.T\n        J[-1, :] = 1  # angular velocity\n        JJT = J * J.T\n        d_theta = lambda_ * J.T * JJT.I * e.T\n        theta += asarray(d_theta.T)[0]\n        if  np.linalg.norm(d_theta) < 1e-4:\n            break\n    return theta\n\nT = forward_kinematics(T0, lv, theta)\nTe = matrix([from_trans(T[-1])])\n\n@interact(x_e=(0, max_len, 0.01), y_e=(-max_len, max_len, 0.01), theta_e=(-pi, pi, 0.01), theta=fixed(theta))\ndef set_end_effector(x_e=Te[0,0], y_e=Te[0,1], theta_e=Te[0,2], theta=theta):\n    theta = inverse_kinematics(x_e, y_e, theta_e, theta)\n    T = forward_kinematics(T0, lv, theta)\n    show_robot_arm(T)\n\n# NOTE\n# while numerical inverse kinematics is easy to implemente, two issues have to be keep in mind:\n# * stablility: the correction step (lambda_) has to be small, but it will take longer time to converage\n# * singularity: there are singularity poses (all 0, for example), the correction will be 0, so the algorithm won't work. That's why many robots bends its leg when walking"
       },
       "cell_index": 33,
       "root": true
      }
     ]
    },
    "b249266f72ce41b096bfeafd4789ed36": {
     "views": []
    },
    "b27d4b54be3c499bac6ce346de64e0bb": {
     "views": []
    },
    "b28e241d2ac14db39d89dc3952ff8974": {
     "views": []
    },
    "b402a799328c49e99abd5beb99ad63cb": {
     "views": [
      {
       "cell": {
        "cell_type": "code",
        "execution_count": 7,
        "metadata": {
         "collapsed": false,
         "trusted": true
        },
        "outputs": [
         {
          "data": {
           "image/png": "iVBORw0KGgoAAAANSUhEUgAAAz4AAAKPCAYAAACsKh+8AAAABHNCSVQICAgIfAhkiAAAAAlwSFlz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\nwgcAAGjv/wNiuh1JRm4QPQAAAABJRU5ErkJggg==\n",
           "text/plain": "<matplotlib.figure.Figure at 0x7f7e6e60add0>"
          },
          "metadata": {},
          "output_type": "display_data"
         }
        ],
        "source": "for i in range(N):\n    @interact(value=(-pi/2, pi/2, 0.1), n=fixed(i))\n    def set_joint_angle(n, value=0):\n        global a\n        a[n] = value\n        T = forward_kinematics(T0, l, a)\n        show_robot_arm(T)\n"
       },
       "cell_index": 10,
       "root": true
      }
     ]
    },
    "b491570fd738421e971d2f01f6e5e025": {
     "views": []
    },
    "b4cd5a2f926e43be8c8028d2c071e2e5": {
     "views": []
    },
    "b579ef0051d945a9adc2c1c7a0387ab9": {
     "views": []
    },
    "b7203daacce34cedab333faf601f8080": {
     "views": []
    },
    "b74a7887033349f59d4dcce5df469ebe": {
     "views": []
    },
    "b7da1a920b6441d8b303aacc5472a743": {
     "views": []
    },
    "b7ebf419b324467196b93aec2ddfb2e5": {
     "views": []
    },
    "b7f65fb78b1f4963923e4b2b889ae71d": {
     "views": []
    },
    "b80d613ff47c4b5e8a92d15ce973c058": {
     "views": []
    },
    "b80d7b1129344995a0e08645bd02c43c": {
     "views": []
    },
    "b8af5204f7bd46e49556c9b9339a61d1": {
     "views": []
    },
    "b8f0724bbf9c4379af6c6b24598a2e45": {
     "views": []
    },
    "b94bcf1136124faa83d0d49f6ffd01ef": {
     "views": []
    },
    "b94d48ddfc0c4b9bbe799e23d02bdb23": {
     "views": []
    },
    "b9a4a36b6f0541d08765760f39d5979d": {
     "views": []
    },
    "b9b0e906c50b4fe194ba0561860a48d2": {
     "views": []
    },
    "b9b20e2b81ef469fbc2147fe4fd1fbcd": {
     "views": [
      {
       "cell": {
        "cell_type": "code",
        "execution_count": 7,
        "metadata": {
         "collapsed": false,
         "trusted": true
        },
        "outputs": [
         {
          "data": {
           "image/png": "iVBORw0KGgoAAAANSUhEUgAAAz4AAAKPCAYAAACsKh+8AAAABHNCSVQICAgIfAhkiAAAAAlwSFlz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\nwgcAAGjv/wNiuh1JRm4QPQAAAABJRU5ErkJggg==\n",
           "text/plain": "<matplotlib.figure.Figure at 0x7f7e6e60add0>"
          },
          "metadata": {},
          "output_type": "display_data"
         }
        ],
        "source": "for i in range(N):\n    @interact(value=(-pi/2, pi/2, 0.1), n=fixed(i))\n    def set_joint_angle(n, value=0):\n        global a\n        a[n] = value\n        T = forward_kinematics(T0, l, a)\n        show_robot_arm(T)\n"
       },
       "cell_index": 10,
       "root": true
      }
     ]
    },
    "b9eee2008f4e4bbdb794dc096ad66eed": {
     "views": []
    },
    "bb317461e530495584bed769e3907371": {
     "views": []
    },
    "bb4935d65aa4419a903c269ee1c245c6": {
     "views": []
    },
    "bb5048ede7214dbc95ddd20b2860d967": {
     "views": []
    },
    "bc375a0bce7f422988cf8184f1b766e4": {
     "views": []
    },
    "bcdf58e3772d46bc85c99b311fca3597": {
     "views": []
    },
    "bd0e575537f84a4dbbe73055036d545f": {
     "views": []
    },
    "bda506ba1987430e8e52e2370d61f1a7": {
     "views": []
    },
    "bde65c86e6d1468fb60ae401c4c8b29a": {
     "views": [
      {
       "cell": {
        "cell_type": "code",
        "execution_count": 7,
        "metadata": {
         "collapsed": false,
         "trusted": true
        },
        "outputs": [
         {
          "data": {
           "image/png": "iVBORw0KGgoAAAANSUhEUgAAAz4AAAKPCAYAAACsKh+8AAAABHNCSVQICAgIfAhkiAAAAAlwSFlz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\nwgcAAGjv/wNiuh1JRm4QPQAAAABJRU5ErkJggg==\n",
           "text/plain": "<matplotlib.figure.Figure at 0x7f7e6e60add0>"
          },
          "metadata": {},
          "output_type": "display_data"
         }
        ],
        "source": "for i in range(N):\n    @interact(value=(-pi/2, pi/2, 0.1), n=fixed(i))\n    def set_joint_angle(n, value=0):\n        global a\n        a[n] = value\n        T = forward_kinematics(T0, l, a)\n        show_robot_arm(T)\n"
       },
       "cell_index": 10,
       "root": true
      }
     ]
    },
    "be1acc039ba446ee8faa23f50a109cad": {
     "views": []
    },
    "bf5d09791dc84a05a89a788915401157": {
     "views": []
    },
    "c04926eeeee849949eb61738e5e66675": {
     "views": []
    },
    "c05c848c83c649bca51c6b180a176e4a": {
     "views": []
    },
    "c1778dbcd3454ee190824e9101a0b647": {
     "views": []
    },
    "c17e1418e17445ef8f2a0f8e1dad0c38": {
     "views": []
    },
    "c1eaf2eb5c684f2db956365800471e0d": {
     "views": []
    },
    "c205b755237d444eb87a20babac93ad5": {
     "views": []
    },
    "c229e9376d6a4e1b8243aa035744b4a8": {
     "views": []
    },
    "c296feae9fc241f6b7cc2155c35d2a21": {
     "views": []
    },
    "c298b40a15fc4980a8bec3c3c36e1cdf": {
     "views": []
    },
    "c2a9da2b5f9a441c86c7ca1d98bdfb5c": {
     "views": []
    },
    "c2ba4e3cb0024641939db9301b068ace": {
     "views": []
    },
    "c2bae26c415844b19c575a61f4e98967": {
     "views": []
    },
    "c2fa97d314134fdf8ed6e6db1428cd88": {
     "views": []
    },
    "c3703cc105c14aa29739a9c4aa53923c": {
     "views": [
      {
       "cell": {
        "cell_type": "code",
        "execution_count": 7,
        "metadata": {
         "collapsed": false,
         "trusted": true
        },
        "outputs": [
         {
          "data": {
           "image/png": "iVBORw0KGgoAAAANSUhEUgAAAz4AAAKPCAYAAACsKh+8AAAABHNCSVQICAgIfAhkiAAAAAlwSFlz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\nwgcAAGjv/wNiuh1JRm4QPQAAAABJRU5ErkJggg==\n",
           "text/plain": "<matplotlib.figure.Figure at 0x7f7e6e60add0>"
          },
          "metadata": {},
          "output_type": "display_data"
         }
        ],
        "source": "for i in range(N):\n    @interact(value=(-pi/2, pi/2, 0.1), n=fixed(i))\n    def set_joint_angle(n, value=0):\n        global a\n        a[n] = value\n        T = forward_kinematics(T0, l, a)\n        show_robot_arm(T)\n"
       },
       "cell_index": 10,
       "root": true
      }
     ]
    },
    "c39014455211404cae26ef0b4179cc29": {
     "views": []
    },
    "c3ae4ee5304c468f84b15b2f834369c3": {
     "views": []
    },
    "c40830ec69ab4c61882d3bb657705a29": {
     "views": [
      {
       "cell": {
        "cell_type": "code",
        "execution_count": 7,
        "metadata": {
         "collapsed": false,
         "trusted": true
        },
        "outputs": [
         {
          "data": {
           "image/png": "iVBORw0KGgoAAAANSUhEUgAAAz4AAAKPCAYAAACsKh+8AAAABHNCSVQICAgIfAhkiAAAAAlwSFlz\nAAAMTQAADE0B0s6tTgAAH1xJREFUeJzt3X+w5Xdd3/HXG5ZFYrlXsEACCSEmpSYWTKAoJkULCjcM\nllrDIB1KBQrRAA6WhlaXTju2M2mpqDCMKQnogFSKo/gDxppLRiJgEhRNCIJRIIkmhCQygvdGV7Ib\n8ukf9yzerLvJ3d3v3XP2ncdjZoe95/u5n/P58p2bPc/7/Z7zrTFGAAAAOnvQvBcAAACw3YQPAADQ\nnvABAADaEz4AAEB7wgcAAGhP+AAAAO0JHwAAoL1Jw6eqdlbVW6vqM1V1XVX9wpTzAwAAHI4dE8/3\nxiT3jDGemCRV9eiJ5wcAADhkNcaYZqKq45LcluRxY4y/nmRSAACACUx5qdupSb6U5A1V9fGq+nBV\nPWvC+QEAAA7LlJe67UhycpJPjTF+vKrOTHJ5VZ0xxvjivkFVVUkem+TOCZ8bAIBpPTzJF8ZUlwfB\nnE15qds3Jrk9yc59PyBV9ftJfmyM8aFN4x6X5POTPCkAANvpxDHGrfNeBExhsjM+Y4y/rKrfTnJu\nkt+qqlOSPCHJ9fsNvTNJbrnlliwtLU319Exk165dueiii+a9DA7C8Vlcjs3icmwWm+OzmNbX13PS\nSSclrtChkak/1e2CJD9XVW9M8tUk548xbjvQwKWlJeGzgHbu3Om4LDDHZ3E5NovLsVlsjg9wtEwa\nPmOMm5L4QAMAAGChTHoDU459Kysr814C98HxWVyOzeJybBab4wMcLZN9uMGWn7BqKcna2tqaU9sA\nAAtofX09y8vLSbI8xlif93pgCs74AAAA7QkfAACgPeEDAAC0J3wAAID2hA8AANCe8AEAANoTPgAA\nQHvCBwAAaE/4AAAA7QkfAACgPeEDAAC0J3wAAID2hA8AANCe8AEAANoTPgAAQHvCBwAAaE/4AAAA\n7QkfAACgPeEDAAC0J3wAAID2hA8AANCe8AEAANoTPgAAQHvCBwAAaE/4AAAA7QkfAACgPeEDAAC0\nJ3wAAID2hA8AANCe8AEAANoTPgAAQHvCBwAAaE/4AAAA7QkfAACgPeEDAAC0J3wAAID2hA8AANCe\n8AEAANoTPgAAQHvCBwAAaE/4AAAA7QkfAACgPeEDAAC0J3wAAID2hA8AANCe8AEAANoTPgAAQHvC\nBwAAaE/4AAAA7QkfAACgPeEDAAC0J3wAAID2hA8AANCe8AEAANoTPgAAQHvCBwAAaE/4AAAA7Qkf\nAACgPeEDAAC0J3wAAID2hA8AANCe8AEAANoTPgAAQHvCBwAAaE/4AAAA7QkfAACgPeEDAAC0J3wA\nAID2hA8AANCe8AEAANoTPgAAQHvCBwAAaE/4AAAA7QkfAACgPeEDAAC0J3wAAID2hA8AANCe8AEA\nANoTPgAAQHvCBwAAaE/4AAAA7QkfAACgPeEDAAC0J3wAAID2hA8AANCe8AEAANoTPgAAQHvCBwAA\naE/4AAAA7QkfAACgPeEDAAC0J3wAAID2tiV8quplVXVPVT1/O+YHAAA4FJOHT1WdnOQVSa6eem4A\nAIDDMWn4VFUleUeS1yTZM+XcAAAAh2vqMz6vS/LRMca1E88LAABw2HZMNVFVfUuS85I8Y6o5AQAA\npjBZ+GQjeE5O8tnZJW/HJ7m0qk4YY1yy/+Bdu3Zl586dSZKVlZWsrKxMuBQAAA7F6upqVldXkyR7\n9njHAv3UGGN7Jq66IsnPjDHev9/jS0nW1tbWsrS0tC3PDQDA4VtfX8/y8nKSLI8x1ue9HpjCdt7H\nZ3uKCgAA4BBNeanbvYwxnrVdcwMAAByK7TzjAwAAsBCEDwAA0J7wAQAA2hM+AABAe8IHAABoT/gA\nAADtCR8AAKA94QMAALQnfAAAgPaEDwAA0J7wAQAA2hM+AABAe8IHAABoT/gAAADtCR8AAKA94QMA\nALQnfAAAgPaEDwAA0J7wAQAA2hM+AABAe8IHAABoT/gAAADtCR8AAKA94QMAALQnfAAAgPaEDwAA\n0J7wAQAA2hM+AABAe8IHAABoT/gAAADtCR8AAKA94QMAALQnfAAAgPaEDwAA0J7wAQAA2hM+AABA\ne8IHAABoT/gAAADtCR8AAKA94QMAALQnfAAAgPaEDwAA0J7wAQAA2hM+AABAe8IHAABoT/gAAADt\nCR8AAKA94QMAALQnfAAAgPaEDwAA0J7wAQAA2hM+AABAe8IHAABoT/gAAADtCR8AAKA94QMAALQn\nfAAAgPaEDwAA0J7wAQAA2hM+AABAe8IHAABoT/gAAADtCR8AAKA94QMAALQnfAAAgPaEDwAA0J7w\nAQAA2hM+AABAe8IHAABoT/gAAADtCR8AAKA94QMAALQnfAAAgPaEDwAA0J7wAQAA2hM+AABAe8IH\nAABoT/gAAADtCR8AAKA94QMAALQnfAAAgPaEDwAA0J7wAQAA2hM+AABAe8IHAABoT/gAAADtCR8A\nAKA94QMAALQnfAAAgPaEDwAA0J7wAQAA2hM+AABAe8IHAABoT/gAAADtCR8AAKC9ycKnqh5aVb9W\nVX9SVddW1WpVnTrV/AAAAIdr6jM+l4wxvnmMcVaS9yd5x8TzAwAAHLLJwmeMcdcY47JND30syclT\nzQ8AAHC4tvM9Pq9N8uvbOD8AAMCW7NiOSatqV5JTk5x/sDG7du3Kzp07kyQrKytZWVnZjqUAALAF\nq6urWV1dTZLs2bNnzquB6dUYY9oJqy5M8sIk3z3GuPMA25eSrK2trWVpaWnS5wYA4Mitr69neXk5\nSZbHGOvzXg9MYdIzPlX1uiQvykGiBwAAYB4mC5+qelySNyW5IckVVVVJvjLG+I6pngMAAOBwTBY+\nY4xb44aoAADAAhIqAABAe8IHAABoT/gAAADtCR8AAKA94QMAALQnfAAAgPaEDwAA0J7wAQAA2hM+\nAABAe8IHAABoT/gAAADtCR8AAKA94QMAALQnfAAAgPaEDwAA0J7wAQAA2hM+AABAe8IHAABoT/gA\nAADtCR8AAKA94QMAALQnfAAAgPaEDwAA0J7wAQAA2hM+AABAe8IHAABoT/gAAADtCR8AAKA94QMA\nALQnfAAAgPaEDwAA0J7wAQAA2hM+AABAe8IHAABoT/gAAADtCR8AAKA94QMAALQnfAAAgPaEDwAA\n0J7wAQAA2hM+AABAe8IHAABoT/gAAADtCR8AAKA94QMAALQnfAAAgPaEDwAA0J7wAQAA2hM+AABA\ne8IHAABoT/gAAADtCR8AAKA94QMAALQnfAAAgPaEDwAA0J7wAQAA2hM+AABAe8IHAABoT/gAAADt\nCR8AAKA94QMAALQnfAAAgPaEDwAA0J7wAQAA2hM+AABAe8IHAABoT/gAAHAwf1VV11XVufseqKrv\nqqrfr6pPzf58+4G+saoeVVW/VVWfqapPVtUzFnHbAdb972bjPltVl1TVgw8y7mFV9Z7ZuD+pqvMW\ncdsB1v29VXV9Vf1pVf1KVf2Dg4yrqnprVX1u9v/Hqxd024/O9vuag+3zPsIHAICDGUn+2RjjsiSp\nqhOSvDPJvxlj/JMkZyW5/iDf+z+TXD3GeGKSlyd5z6aIWKRtX1NVT0jy35KcM8b4R0mOT3L+Qfbv\nwiRfmY07N8nFVfWIBdy2ef++Psk7kjx/jPGPk9yW5L8cZP9ekuSbxxinJfn2JK+vqtMXbdsY481J\nXnGQfbgX4QMAwMHU7M8+r0ryi2OMzyTJGGPvGGP9IN/7wiRvm437gyRfSPJdC7Lt1k3bNntBkt8Y\nY3xx9vXbkvzrg+zfD2ya88+S/E6Sf7Ug267YtG2z5ya5Zozx2dnXF9/H/r0wydtnc345yS9tGrtI\n27ZM+AAAsFVnJDmuqi6vqmuq6i1V9bD9B1XVI5PsGGP8xaaH/yzJ4xdk258nefwB9u/xs233muMA\n4+5v7Ly3Hcr+HV9VB2qCee/DVrdtmfABAGCrdiR5RpLzkjwtySOT/MRcVwRbJHwAANiqm5P85hhj\nfYzx1ST/N8nT9x80xvhSkrur6tGbHn5Ckj9foG03H2T/Tt7CuGTjDMTBxi7Sts1unm3b55Qkt40x\n7jnI2IPNuUjbtkz4AACwVe9J8syq2jn7+rlJrjvI2F9OckGSVNXTkjw2yUcWaNuHZ19fVFWvmo17\nX5LnV9Wjq6qS/HCS9x5k/35ltj1VdUo23jP064u2rapeXVUXzcZdluSsqnri7OsL7mP/fjnJK6vq\nQbPLBX9g09hF2PZLB1n3Qe041G8AAOCBaYxxdVV9IMm1VXV3kk/n715wPzXJT4wxvnc2/MeSvLuq\nPpPkriQvnp0lWrRt35rkD2b7d1NV/dckV2XjE+2uSHLJbP9OyMbZrqfMvu8nk/x8VX0uyd1JXj07\nu7Ro285IcsNs//66ql6R5Ddmn2r3qSQ/OBuXqro2yXPHGLcneXeSf5rks0nuSfKmMcYfz4YuwrZP\n5xDVGONQv+eIVNVSkrW1tbUsLS0d1ecGAOD+ra+vZ3l5Odl48f8N9/HJbce02Zv6rx5jHPBeRB1U\n1UeyETN/M++1bJeq+udJfnpTlB6QS90AADiYO5J8uDbdwLSTMcY9naMnScYY39k8en40yc8m+eL9\njnXGBwCAzTad8VnueraHBx5nfAAAgPaEDwAA0J7wAQAA2hM+AABAe8IHAABoT/gAAADtCR8AAKA9\n4QMAALQnfAAAgPaEDwAA0J7wAQAA2hM+AABAe8IHAABoT/gAAADtCR8AAKA94QMAALS3Y94LADiW\n7d69O5deemlu/9zncvxpp+X888/PcccdN+9l0dDevXtz5ZVX5ku33ZZHnnBCzjnnnDzkIQ+Z97JI\nv2Ozd+/efPSjH533MmByNcaYbrKq05K8K8k/TPJXSV46xrh+vzFLSdbW1taytLQ02XMDHE27d+/O\nS84+O/dcf31etGdPHpvkC0neu3Nn6vTT83+uukoAMYm9e/fmpy68MDd/8IN51k035TF33ZU7HvrQ\nfOiUU3LSc56TC9/0pmP6RfaxrNux2bw/T7/xxvzgnj1JsjzGWJ/32mAKU4fPbyd55xjj3VV1XpL/\nNMb4tv3GCB/gmLZ79+6ce+KJefOXv5ynHGD7NUl+9BGPyGWf/7z44Yjs3bs3rz733LzqIx/JmXff\n/fe2f2LHjlz8nd+Zn73ssmPqBXYH3Y7N/vuznmR5Y5PwoY3JwqeqHpXks0keOca4Z/bYbUnOGWPc\nuGmc8AGOad9/5pn5z9ddd8Do2ecPk1x03HF535OffLSWRUP/46ab8tw77siZ9zHm2iSrxx+fH3vC\nE47Sqkj6HZv990f40NGU7/E5Kclt+6Jn5uYkj09y44G/BeDYsnv37ozrr7/P6EmSpyb56u7d2f2x\nj8U5Hw7H3iS3JPf5wjpJzkpy6e23Z+/tt2fxzyv00O3YbHV/4FjnU90ADsGll16aF21c936/XpTk\n7du7HBq7Msmztjj2WUmu2sa1cG/djs2h7A8cy6Y843NLkhOq6kGbzvo8Phtnff6eXbt2ZefOnUmS\nlZWVrKysTLgUgO1x++c+l6ducexjk1y3nYuhtS8lecwWxz4myV9u41q4t27HZt/+rM7+JMnWfr0D\nx5bJwmeM8cWquibJS5K8q6pekOSWze/v2eyiiy7yHh/gmHP8aaflC1sc+4Ukx2/nYmjtkUnu2OLY\nO5I8ehvXwr11Ozb79ucFSfb9Gno9yc/ObUWwPab+VLcnJnlnkm9MspbkZWOMT+83xocbAMes3bt3\n58WPeER+bQuXu31fVd77tKfl6x7kqmIO3d577slrP/nJXPyVr9zv2Ase9rC89clPzo6qo7Ayuh2b\nA+2PDzego0lvYDrG+EySs6ecE2CRHHfccanTT881W/hUtwd/67fm637v947W0mjmIUlOeu1r84mL\nLz7gxyXvc+2OHTn5/POz481vPnqLe4Drdmy2uj9wrJv0jM+WntAZH+AYt+8+Pj/z5S8f8P0+f5jk\n37uPDxPYd2+VCz7ykZx1gBek1+7Ykf99DN0rppNux2b//XHGh46ED8Bh2L17d15yzjm554//OD+w\nZ08em4339Lx35848+Iwz8u4rrxQ9TGLv3r35qde/Pjd/8IN55o035jF33ZU7HvrQfOiUU3Lyykr+\nw0/+5DHxwrqjbsdm8/58+w035KUbl/QKH9oQPgBHYPfu3Xn729+e22+4Icefempe+cpXCh62xd69\ne3PVVVflS7fdlkeecELOPvvsY+pFdWfdjs3evXtz+eWX53nPe14ifGhE+AAAcC/r6+tZXl5OhA+N\n+KghAACgPeEDAAC0J3wAAID2hA8AANCe8AEAANoTPgAAQHvCBwAAaE/4AAAA7QkfAACgPeEDAAC0\nJ3wAAID2hA8AANCe8AEAANoTPgAAQHvCBwAAaE/4AAAA7QkfAACgPeEDAAC0J3wAAID2hA8AANCe\n8AEAANoTPgAAQHvCBwAAaE/4AAAA7QkfAACgPeEDAAC0J3wAAID2hA8AANCe8AEAANoTPgAAQHvC\nBwAAaE/4AAAA7QkfAACgPeEDAAC0J3wAAID2hA8AANCe8AEAANoTPgAAQHvCBwAAaE/4AAAA7Qkf\nAACgPeEDAAC0J3wAAID2hA8AANCe8AEAANoTPgAAQHvCBwAAaE/4AAAA7QkfAACgPeEDAAC0J3wA\nAID2hA8AANCe8AEAANoTPgAAQHvCBwAAaE/4AAAA7QkfAACgPeEDAAC0J3wAAID2hA8AANCe8AEA\nANoTPgAAQHvCBwAAaE/4AAAA7QkfAACgPeEDAAC0J3wAAID2hA8AANCe8AEAANoTPgAAQHvCBwAA\naE/4AAAA7QkfAACgPeEDAAC0J3wAAID2hA8AANCe8AEAANoTPgAAQHvCBwAAaE/4AAAA7QkfAACg\nPeEDAAC0J3wAAID2hA8AANCe8AEAANoTPgAAQHvCBwAAaE/4AAAA7QkfAACgPeEDAAC0N0n4VNWP\nVNUfVdV1VfWJqnrxFPMCAABMYcdE83wqydljjDur6sQk11bVVWOMmyaaHwAA4LBNcsZnjHHFGOPO\n2d8/n+T2JCdNMTcAAMCRmvw9PlX1PUm+IcnHp54bAADgcGzpUrequirJafs/nGQkOWuMcets3JOS\n/HySF44x/nbKhQIAAByuLYXPGOPs+xtTVWckeX+Sl44xrr6/8bt27crOnTuTJCsrK1lZWdnKUgAA\n2Aarq6tZXV1NkuzZs2fOq4Hp1RjjyCepOj3J/0ty/hjj8vsZu5RkbW1tLUtLS0f83AAATGt9fT3L\ny8tJsjzGWJ/3emAKU73H5y1JlpK8saquraprqurZE80NAABwRCb5OOsxxnOmmAcAAGA7TP6pbgAA\nAItG+AAAAO0JHwAAoD3hAwAAtCd8AACA9oQPAADQnvABAADaEz4AAEB7wgcAAGhP+AAAAO0JHwAA\noD3hAwAAtCd8AACA9oQPAADQnvABAADaEz4AAEB7wgcAAGhP+AAAAO0JHwAAoD3hAwAAtCd8AACA\n9oQPAADQnvABAADaEz4AAEB7wgcAAGhP+AAAAO0JHwAAoD3hAwAAtCd8AACA9oQPAADQnvABAADa\nEz4AAEB7wgcAAGhP+AAAAO0JHwAAoD3hAwAAtCd8AACA9oQPAADQnvABAADaEz4AAEB7wgcAAGhP\n+AAAAO0JHwAAoD3hAwAAtCd8AACA9oQPAADQnvABAADaEz4AAEB7wgcAAGhP+AAAAO0JHwAAoD3h\nAwAAtCd8AACA9oQPAADQnvABAADaEz4AAEB7wgcAAGhP+AAAAO0JHwAAoD3hAwAAtCd8AACA9oQP\nAADQnvABAADaEz4AAEB7wgcAAGhP+AAAAO0JHwAAoD3hAwAAtCd8AACA9oQPAADQnvABAADaEz4A\nAEB7wgcAAGhP+AAAAO0JHwAAoD3hAwAAtCd8AACA9oQPAADQnvABAADaEz4AAEB7wgcAAGhP+AAA\nAO0JHwAAoD3hAwAAtCd8AACA9oQPAADQnvABAADaEz4AAEB7wgcAAGhP+AAAAO0JHwAAoD3hAwAA\ntCd8AACA9oQPAADQnvABAADamzR8qurRVXV7Vf3qlPMCAAAcianP+LwtyQcmnhMAAOCITBY+VfXy\nJDcm+d2p5gQAAJjCJOFTVack+aEkb5hiPgAAgCnt2MqgqroqyWn7P5xkJHlKkp9L8poxxl1VVVuZ\nc9euXdm5c2eSZGVlJSsrK1teNAAA01pdXc3q6mqSZM+ePXNeDUyvxhhHNkHVUpIbktw5e+jhSR6W\n5OoxxrMPMn5tbW0tS0tLR/TcAABMb319PcvLy0myPMZYn/d6YApbOuNzX2Y/DI/a93VV/WCSfznG\n+P4jnRsAAGAK7uMDAAC0N3n4jDHe5WwPAACwSJzxAQAA2hM+AABAe8IHAABoT/gAAADtCR8AAKA9\n4QMAALQnfAAAgPaEDwAA0J7wAQAA2hM+AABAe8IHAABoT/gAAADtCR8AAKA94QMAALQnfAAAgPaE\nDwAA0J7wAQAA2hM+AABAe8IHAABoT/gAAADtCR8AAKA94QMAALQnfAAAgPaEDwAA0J7wAQAA2hM+\nAABAe8IHAABoT/gAAADtCR8AAKA94QMAALQnfAAAgPaEDwAA0J7wAQAA2hM+AABAe8IHAABoT/gA\nAADtCR8AAKA94QMAALQnfAAAgPaEDwAA0J7wAQAA2hM+AABAe8IHAABoT/gAAADtCR8AAKA94QMA\nALQnfAAAgPaEDwAA0J7wAQAA2hM+AABAe8IHAABoT/gAAADtCR8AAKA94QMAALQnfAAAgPaEDwAA\n0J7wAQAA2hM+AABAe8IHAABoT/gAAADtCR8AAKA94QMAALQnfAAAgPaEDwAA0J7wAQAA2hM+AABA\ne8IHAABoT/gAAADtCR8AAKA94QMAALQnfAAAgPaEDwAA0J7wAQAA2hM+AABAe8IHAABoT/gAAADt\nCR8AAKA94QMAALQnfAAAgPaEDwAA0J7wAQAA2hM+AABAe8IHAABoT/gAAADtCR8AAKA94QMAALQn\nfAAAgPaEDwAA0J7wAQAA2hM+AABAe8IHAABoT/gAAADtCR8AAKA94QMAALQ3WfhU1XlV9cmq+qPZ\n/z5+qrkBAACOxCThU1VnJfnvSZ49xnhSku9I8hdTzM3Rtbq6Ou8lcB8cn8Xl2Cwux2axOT7A0TLV\nGZ/XJfnpMcYdSTLG+JsxxlcmmpujyD9Ai83xWVyOzeJybBab4wMcLVOFzxlJTq6q36mqP6yq/1ZV\nNdHcAAAAR2THVgZV1VVJTtv/4SQjyVmzec5M8pzZ39+f5IIkFx9szvX19cNYLtttz549js0Cc3wW\nl2OzuBybxeb4LCbHhI5qjHHkk1R9IMn7xhjvnH39qiRPH2P82wOMfVySzx/xkwIAsN1OHGPcOu9F\nwBS2dMZnC96T5F9U1buSPDgbZ34+epCxX0hyYpI7J3puAACm9/BsvG6DFqY641NJ/leS5yW5OxvR\n89oxxt1HPDkAAMARmiR8AAAAFtlkNzA9HG56utiq6tFVdXtV/eq818Lfqaofmf3MXFdVn6iqF897\nTQ9kVXVaVV1ZVX9aVb9XVafPe01sqKqHVtWvVdWfVNW1VbVaVafOe13cW1W9rKruqarnz3stbKiq\nnVX11qr6zOzfml+Y95pgClO9x+eQbbrp6TPHGHdU1dcn+eq81sMBvS3JB5J847wXwr18KsnZY4w7\nq+rEJNdW1VVjjJvmvbAHqEuSvG2M8e6qOi/Ju5J825zXxN+5ZIxxWZJU1auTvCPJM+e7JPapqpOT\nvCLJ1fNeC/fyxiT3jDGemGz8InTO64FJzPOMj5ueLrCqenmSG5P87rzXwr2NMa4YY9w5+/vnk9ye\n5KT5ruqBqaoeleSpSX4xScYY70tyUlV901wXRpJkjHHXvuiZ+ViSk+e1Hu5t9v7gdyR5TZI9c14O\nM1V1XJKXJ3nDvsfGGH8xvxXBdOYZPm56uqCq6pQkP5RN/9FjMVXV9yT5hiQfn/daHqBOSnLbGOOe\nTY/dnMRlu4vptUl+fd6L4Gtel+SjY4xr570Q7uXUJF9K8oaq+nhVfbiqnjXvRcEUtu1St+246SnT\nuJ9j85QkP5fkNWOMu8To0Xd/Pzv77qdQVU9K8vNJXjjG+Nuju0o4tlTVrmy8oDt/3mshqapvSXJe\nkmfMey38PTuycWb0U2OMH6+qM5NcXlVnjDG+OOe1wRHZtvAZY5x9X9ur6uZs3PR0T5I9szfQPz3C\nZ9vd17GpqqUkT0ryS7PmeXiSh1XV5WOMZx+lJT6g3d/PTpJU1RnZ+GXBS8cYro2fn1uSnFBVD9p0\n1ufx2Tjrw4KoqguTfF+S73ZJ9cJ4RjZeXH929gu245NcWlUnjDEume/SHvBuzsZ7rt+TJGOMT1TV\nTdl4bfCheS4MjtQ8L3V7T5Ln1IYd2Tjzc90c10OSMcb6GONRY4xvGmN8U5ILk3xQ9CyO2aeG/WaS\n88cY/hGao9lvP69J8pIkqaoXJLlljHHjXBfG11TV65K8KMmz9703jvkbY7xtjPG42b81p2Tj/Vfn\ni575G2P8ZZLfTnJu8rXL35+Q5Po5LgsmMc/weW+SW5N8OhsvHG5N8pY5rgeOFW9JspTkjbOP6L2m\nqoTp/Pxwkh+qqj9N8h+TvGzO62Gmqh6X5E1JlpNcMft5cYZ0Mbmp4GK5IMnrq+qTSX41G1F625zX\nBEfMDUwBAID25noDUwAAgKNB+AAAAO0JHwAAoD3hAwAAtCd8AACA9oQPAADQnvABAADaEz4AAEB7\nwgcAAGjv/wNiuh1JRm4QPQAAAABJRU5ErkJggg==\n",
           "text/plain": "<matplotlib.figure.Figure at 0x7f7e6e60add0>"
          },
          "metadata": {},
          "output_type": "display_data"
         }
        ],
        "source": "for i in range(N):\n    @interact(value=(-pi/2, pi/2, 0.1), n=fixed(i))\n    def set_joint_angle(n, value=0):\n        global a\n        a[n] = value\n        T = forward_kinematics(T0, l, a)\n        show_robot_arm(T)\n"
       },
       "cell_index": 10,
       "root": true
      }
     ]
    },
    "c49db5a1dc274629ba8fa33aaca2dd04": {
     "views": []
    },
    "c5494213ec854ef9a5680fda3ff388f3": {
     "views": []
    },
    "c58fbc8c37fa4a9c88a892c25fc50eb1": {
     "views": []
    },
    "c5dfde13382e4b98a48977d47310d9b5": {
     "views": []
    },
    "c75d5b6c85ac4c5ba9a782cabed119b9": {
     "views": []
    },
    "c80f6d81e13e4fdf80c9361c56878594": {
     "views": []
    },
    "c837b314041c4abd98fe54f2bad46be9": {
     "views": []
    },
    "c871e1b1955348a08ddc78e40d1b7784": {
     "views": []
    },
    "c87a9501e0944a9993c2e42e0d7c8ed8": {
     "views": []
    },
    "c9c24fca3e624b5a98bef7f3a69de196": {
     "views": []
    },
    "ca0d28d05e5246f997d3496c9cd7bea9": {
     "views": []
    },
    "ca1c6ee68d3c4e3f9cae7f8fd31f1052": {
     "views": []
    },
    "cacdb4e5168a4d8cbcd493bb81fa2be3": {
     "views": []
    },
    "cb033f53273b42f4a34583d92b212bca": {
     "views": []
    },
    "cb71d0de25414854bd9ff072c3d116d7": {
     "views": []
    },
    "cbc4d852cfd046f585f9f54d1db8ed58": {
     "views": []
    },
    "cc10f1446a684b4ea8b57db865cc0c70": {
     "views": []
    },
    "cc1aa36a99364aad800f4d273ede4ae4": {
     "views": []
    },
    "cc3f910800ba4db5a9f7069f40d26238": {
     "views": []
    },
    "cc6eb0da4afd4530a3365c524981911a": {
     "views": []
    },
    "ccb421a8a8e845f388581b2a73e3e477": {
     "views": []
    },
    "cccb7058119c4a15ade3e5183790974e": {
     "views": []
    },
    "ce20c58090da437da65ae2d97db98697": {
     "views": []
    },
    "ce9b4ee6374a4b25a377b2c7fc4bec9a": {
     "views": []
    },
    "d0e10bc796f34e3db44e8f587746efb9": {
     "views": []
    },
    "d12db5355f404ae2b1c3b43b7a4a6c6e": {
     "views": []
    },
    "d1346c623b904f678f75b94ef8a010b0": {
     "views": []
    },
    "d201c6f4b80d48b0a42247f1bc4c59a8": {
     "views": []
    },
    "d20fd2aea9d345bd808ad08c56f8d774": {
     "views": []
    },
    "d2b9e272d08a4789a24b0d393067e842": {
     "views": []
    },
    "d2dcb1c61cbf4025a1eccb2818c068ea": {
     "views": []
    },
    "d3945dedf4b343b6b9fffb0a2e6f5237": {
     "views": []
    },
    "d3e2e2ae788347d190644f3f3e284543": {
     "views": []
    },
    "d47f5163510b4c3bb75a3e7de42e6a47": {
     "views": []
    },
    "d574ff57355d42358dbcbadc80d660c1": {
     "views": []
    },
    "d5d33bae001545279b809e046a3d8f75": {
     "views": []
    },
    "d5f1aa9a5fdf443fa3813d4274b4a9f2": {
     "views": []
    },
    "d60ffb9674b941c794282fedb9d3bd5d": {
     "views": []
    },
    "d6c220a59902465ea367b59b68941b1e": {
     "views": []
    },
    "d84212e436fa4808b79e6a0e88dac527": {
     "views": []
    },
    "d9488098e33c4fa586e6f519e10c5756": {
     "views": []
    },
    "d995e56a27fd499586a39b83ad04386a": {
     "views": []
    },
    "d998ff4d11e34399a60f579b2124b56d": {
     "views": []
    },
    "da4c511997c14e9cb16262a855520a10": {
     "views": []
    },
    "da64ebe8a9f9486ba00437e0664071e2": {
     "views": []
    },
    "da8213350eb44e03930067f7616a30ba": {
     "views": [
      {
       "cell": {
        "cell_type": "code",
        "execution_count": 7,
        "metadata": {
         "collapsed": false,
         "trusted": true
        },
        "outputs": [
         {
          "data": {
           "image/png": "iVBORw0KGgoAAAANSUhEUgAAAz4AAAKPCAYAAACsKh+8AAAABHNCSVQICAgIfAhkiAAAAAlwSFlz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\nwgcAAGjv/wNiuh1JRm4QPQAAAABJRU5ErkJggg==\n",
           "text/plain": "<matplotlib.figure.Figure at 0x7f7e6e60add0>"
          },
          "metadata": {},
          "output_type": "display_data"
         }
        ],
        "source": "for i in range(N):\n    @interact(value=(-pi/2, pi/2, 0.1), n=fixed(i))\n    def set_joint_angle(n, value=0):\n        global a\n        a[n] = value\n        T = forward_kinematics(T0, l, a)\n        show_robot_arm(T)\n"
       },
       "cell_index": 10,
       "root": true
      }
     ]
    },
    "dae71c9df74f476d9bdca7dbdc9c4813": {
     "views": []
    },
    "db36bc23e8224a13bd5bd39d59b341ea": {
     "views": []
    },
    "db74c7e7bc0445af81e1a1a8cd4c1b2a": {
     "views": []
    },
    "dd7767d3ee1e4fdf9457356dcb9d8856": {
     "views": []
    },
    "dd9547c6a0de46bfbb8766c95faad93a": {
     "views": []
    },
    "de9d33d2fd504e6591a42183a04245c4": {
     "views": []
    },
    "dea19948b29b4852a2fafd8eb5ed81ba": {
     "views": []
    },
    "df3f2a8c0b8d4450b9c81e9bb6bf5a48": {
     "views": []
    },
    "df69964a0a784d678379ef980433bac2": {
     "views": []
    },
    "dfef404d9e874f5ba4bcb626c407e772": {
     "views": []
    },
    "e07f7328f0cd427d9af41fac575919a2": {
     "views": []
    },
    "e0fbecdda5c24dd0b7ae34203dd4bd08": {
     "views": []
    },
    "e14cff4f97544aa2850e91e886f48705": {
     "views": []
    },
    "e172cd6cdcb1425f9686213f3e73af38": {
     "views": []
    },
    "e21b7ba964e54981ac5505b6a6d8e9d4": {
     "views": []
    },
    "e27ff57b6a15404a9f220a4f234d012f": {
     "views": []
    },
    "e35aa9674b9c4be1a8bf4a6b6c3f61b0": {
     "views": []
    },
    "e399e06d7f1d45e98f6db2a87d658e37": {
     "views": [
      {
       "cell": {
        "cell_type": "code",
        "execution_count": 7,
        "metadata": {
         "collapsed": false,
         "trusted": true
        },
        "outputs": [
         {
          "data": {
           "image/png": "iVBORw0KGgoAAAANSUhEUgAAAz4AAAKPCAYAAACsKh+8AAAABHNCSVQICAgIfAhkiAAAAAlwSFlz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\nwgcAAGjv/wNiuh1JRm4QPQAAAABJRU5ErkJggg==\n",
           "text/plain": "<matplotlib.figure.Figure at 0x7f7e6e60add0>"
          },
          "metadata": {},
          "output_type": "display_data"
         }
        ],
        "source": "for i in range(N):\n    @interact(value=(-pi/2, pi/2, 0.1), n=fixed(i))\n    def set_joint_angle(n, value=0):\n        global a\n        a[n] = value\n        T = forward_kinematics(T0, l, a)\n        show_robot_arm(T)\n"
       },
       "cell_index": 10,
       "root": true
      }
     ]
    },
    "e3bbf63ca8f24f3f90c845609efaaa2a": {
     "views": []
    },
    "e3cc82f1d7704f12bdf1b63dd046c1e5": {
     "views": []
    },
    "e3d7d5bde7594823974275a142584fa6": {
     "views": []
    },
    "e3da4e2ae1d54776aa4c7cc721e5b154": {
     "views": []
    },
    "e404ccda48544b2caf82f95feb1a9bab": {
     "views": []
    },
    "e422e5c381a5484dad09cbaadcc77087": {
     "views": []
    },
    "e43c2bd292b24ab2816c0877b4738954": {
     "views": []
    },
    "e46fb472807547428ea7d4e8afa77dac": {
     "views": []
    },
    "e4cabad725b84230b67353f65ecabaae": {
     "views": []
    },
    "e536ce329e8a4dac80d16cc15a9733a7": {
     "views": []
    },
    "e54d65d577fb41fc93b093e342ebf57b": {
     "views": []
    },
    "e571d3e0777b4304baa3db684b3fdf4f": {
     "views": []
    },
    "e7013fe1510b4ceaa644362146094748": {
     "views": []
    },
    "e73bd151c797475bb43b646bf2752d18": {
     "views": []
    },
    "e7a0aa68cb854e4e88b10e88a67d92e9": {
     "views": []
    },
    "e82f169087f64f6697c7852b78fb8be9": {
     "views": []
    },
    "e85294b8300f4069986418f235b96af5": {
     "views": []
    },
    "e8a25988db84459298d40a5b1fc504cc": {
     "views": []
    },
    "e8c375bbe8284cd4b36eec55742be2f1": {
     "views": []
    },
    "e91edaabf1754034b8f421bd701dd90f": {
     "views": []
    },
    "e976f0e425ee4287859ccde23b54645c": {
     "views": []
    },
    "e98da6e6f091464b886cfcfa27073773": {
     "views": []
    },
    "e992373f1ad445cc951c6a729d8d0a34": {
     "views": []
    },
    "ea7e236f78a3472a8e17ae2bf4b5d872": {
     "views": []
    },
    "eab6fa910d8b42c68685d10c68f945ac": {
     "views": []
    },
    "eaf5a48642b445e0b3dfc3d9ddc7fed6": {
     "views": []
    },
    "eb6e7cf4eb454106909676cf889f1c33": {
     "views": []
    },
    "eb908d1cc2b34674a42a42cd059d0eb1": {
     "views": []
    },
    "eb9d5d11d60046438a24e5e324ef9c3d": {
     "views": []
    },
    "ebc01cbc9c81446085e6779adc7beea5": {
     "views": [
      {
       "cell": {
        "cell_type": "code",
        "execution_count": 7,
        "metadata": {
         "collapsed": false,
         "trusted": true
        },
        "outputs": [
         {
          "data": {
           "image/png": "iVBORw0KGgoAAAANSUhEUgAAAz4AAAKPCAYAAACsKh+8AAAABHNCSVQICAgIfAhkiAAAAAlwSFlz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\nwgcAAGjv/wNiuh1JRm4QPQAAAABJRU5ErkJggg==\n",
           "text/plain": "<matplotlib.figure.Figure at 0x7f7e6e60add0>"
          },
          "metadata": {},
          "output_type": "display_data"
         }
        ],
        "source": "for i in range(N):\n    @interact(value=(-pi/2, pi/2, 0.1), n=fixed(i))\n    def set_joint_angle(n, value=0):\n        global a\n        a[n] = value\n        T = forward_kinematics(T0, l, a)\n        show_robot_arm(T)\n"
       },
       "cell_index": 10,
       "root": true
      }
     ]
    },
    "ebd1bb1a6e184910a6ea9194bb246247": {
     "views": []
    },
    "ec331fec5dc849a096d6fc4614f5c6a1": {
     "views": []
    },
    "ed2373b2c86e4249963f1f0c1539875b": {
     "views": []
    },
    "ed5515d5ada341d5bddc42285601a968": {
     "views": []
    },
    "ee6badce55564b0bb690ba653a5c311b": {
     "views": []
    },
    "ee6e242f9f5b4d1197ca01c6bd49119c": {
     "views": []
    },
    "eebf627136a94f8db9d06a66bc1f5ff7": {
     "views": []
    },
    "eef0260f78af4a21ad250a3641b7a8d8": {
     "views": [
      {
       "cell": {
        "cell_type": "code",
        "execution_count": 7,
        "metadata": {
         "collapsed": false,
         "trusted": true
        },
        "outputs": [
         {
          "data": {
           "image/png": "iVBORw0KGgoAAAANSUhEUgAAAz4AAAKPCAYAAACsKh+8AAAABHNCSVQICAgIfAhkiAAAAAlwSFlz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\nwgcAAGjv/wNiuh1JRm4QPQAAAABJRU5ErkJggg==\n",
           "text/plain": "<matplotlib.figure.Figure at 0x7f7e6e60add0>"
          },
          "metadata": {},
          "output_type": "display_data"
         }
        ],
        "source": "for i in range(N):\n    @interact(value=(-pi/2, pi/2, 0.1), n=fixed(i))\n    def set_joint_angle(n, value=0):\n        global a\n        a[n] = value\n        T = forward_kinematics(T0, l, a)\n        show_robot_arm(T)\n"
       },
       "cell_index": 10,
       "root": true
      }
     ]
    },
    "f015dd8292e14585be2c3a0c59445226": {
     "views": []
    },
    "f0250e0e4dc046c2a027691da0596362": {
     "views": []
    },
    "f08ec1113b164c10902c7d0bffb4bb20": {
     "views": []
    },
    "f0b3bddfdf4f4301818959c16c50a8c3": {
     "views": []
    },
    "f0ccdd43c12b482f955a96a33a987d1f": {
     "views": []
    },
    "f29b33c4672a47fbba802a78a91df2dc": {
     "views": []
    },
    "f2bd115744cd430887c3a78df7ef0c6c": {
     "views": []
    },
    "f43ab6c3313b47259689c74b005c845e": {
     "views": []
    },
    "f455cefe6a1d4859864b8dc03a31dfd7": {
     "views": []
    },
    "f47905a5b1e74afe8deb8b1afabd8f4d": {
     "views": []
    },
    "f4b20b9235824b53aa4f9404d009ae80": {
     "views": []
    },
    "f4b8b2ae15794970b47d39be7b854aad": {
     "views": []
    },
    "f5206cf22fcd41ecb46d1697ae3f5b93": {
     "views": []
    },
    "f547ac65fa9a4037831b888060c1c557": {
     "views": []
    },
    "f62f4bada80c4b899d59c3e9b61ebb61": {
     "views": []
    },
    "f640a5c63e70451298e805159c07f3d4": {
     "views": []
    },
    "f69deb3ebacb4af3a5c71027490549ee": {
     "views": []
    },
    "f6ad70efcd5944939e52b79515405c92": {
     "views": []
    },
    "f7138b8ad04a4205b9f11a555e50c6e9": {
     "views": []
    },
    "f717c583a0414f7da87076453c301761": {
     "views": []
    },
    "f7563b083ad842bb97fbc95455f681a4": {
     "views": []
    },
    "f7bf54b876944cbaaa550461df8f8670": {
     "views": []
    },
    "f89ea22aa4bd4287a8b6b86a8a591a08": {
     "views": []
    },
    "f947e9915cbb41ed839bfe7115b528bd": {
     "views": []
    },
    "fa5ae86788654240bb268d605727e05e": {
     "views": []
    },
    "fa693f380691424ebad1e4161b275e36": {
     "views": []
    },
    "fb1d09f5c47d4a1e94290e5e3196d35e": {
     "views": []
    },
    "fb4a806d0af54f59868decbaeea0e523": {
     "views": []
    },
    "fc021ff2a81445379ca28e0dd02fbac8": {
     "views": []
    },
    "fc0c0c18d7954a21ae6fad378a211ebc": {
     "views": []
    },
    "fc2017a6287b43f9a61db19806467923": {
     "views": []
    },
    "fc939063c1e64c22aa11dac05f172a69": {
     "views": []
    },
    "fcb3b9b90884446e9115784dcca5505c": {
     "views": []
    },
    "fcc39e3f81cd433287ea6fee299aa5b9": {
     "views": []
    },
    "fcd8c96328f84203b0e5ea28baba88f3": {
     "views": []
    },
    "fcf83c58e7514ff49138935364e47234": {
     "views": []
    },
    "fd1836b1aa404f4e89ba04fb905657e6": {
     "views": []
    },
    "fdcb9e7abbc44b9aa5a1bfb61a37ac49": {
     "views": []
    },
    "fdeef67864714aa7b5e7222e87afbfd6": {
     "views": []
    },
    "feac76ba51434658ba579dea7035d238": {
     "views": []
    },
    "ff11d3f9b32f4489a729a228ab1abb6b": {
     "views": []
    },
    "ff2966c36daf4fe5bf7a8281c64fcc7d": {
     "views": []
    },
    "ff6fe47547274d3abfe490203e98c2d1": {
     "views": []
    }
   },
   "version": "1.0.0"
  }
 },
 "nbformat": 4,
 "nbformat_minor": 1
}
